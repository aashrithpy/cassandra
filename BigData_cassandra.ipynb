{
  "nbformat": 4,
  "nbformat_minor": 0,
  "metadata": {
    "colab": {
      "provenance": [],
      "toc_visible": true,
      "mount_file_id": "1gPbocleHZ03C4AGelbezbp2kJ92NQ-Q2",
      "authorship_tag": "ABX9TyNzbF9H4wqgSMsnhP5xpZBb",
      "include_colab_link": true
    },
    "kernelspec": {
      "name": "python3",
      "display_name": "Python 3"
    },
    "language_info": {
      "name": "python"
    }
  },
  "cells": [
    {
      "cell_type": "markdown",
      "metadata": {
        "id": "view-in-github",
        "colab_type": "text"
      },
      "source": [
        "<a href=\"https://colab.research.google.com/github/aashrithpy/cassandra/blob/main/BigData_cassandra.ipynb\" target=\"_parent\"><img src=\"https://colab.research.google.com/assets/colab-badge.svg\" alt=\"Open In Colab\"/></a>"
      ]
    },
    {
      "cell_type": "code",
      "source": [
        "pip install cassandra-driver\n"
      ],
      "metadata": {
        "colab": {
          "base_uri": "https://localhost:8080/",
          "height": 0
        },
        "id": "-R7P5SKrgx2I",
        "outputId": "5bd85cea-6e22-44a0-9783-5d25bed0ab3d"
      },
      "execution_count": 2,
      "outputs": [
        {
          "output_type": "stream",
          "name": "stdout",
          "text": [
            "Collecting cassandra-driver\n",
            "  Downloading cassandra_driver-3.29.2-cp310-cp310-manylinux_2_17_x86_64.manylinux2014_x86_64.whl.metadata (6.2 kB)\n",
            "Collecting geomet<0.3,>=0.1 (from cassandra-driver)\n",
            "  Downloading geomet-0.2.1.post1-py3-none-any.whl.metadata (1.0 kB)\n",
            "Requirement already satisfied: click in /usr/local/lib/python3.10/dist-packages (from geomet<0.3,>=0.1->cassandra-driver) (8.1.7)\n",
            "Requirement already satisfied: six in /usr/local/lib/python3.10/dist-packages (from geomet<0.3,>=0.1->cassandra-driver) (1.16.0)\n",
            "Downloading cassandra_driver-3.29.2-cp310-cp310-manylinux_2_17_x86_64.manylinux2014_x86_64.whl (3.9 MB)\n",
            "\u001b[2K   \u001b[90m━━━━━━━━━━━━━━━━━━━━━━━━━━━━━━━━━━━━━━━━\u001b[0m \u001b[32m3.9/3.9 MB\u001b[0m \u001b[31m34.3 MB/s\u001b[0m eta \u001b[36m0:00:00\u001b[0m\n",
            "\u001b[?25hDownloading geomet-0.2.1.post1-py3-none-any.whl (18 kB)\n",
            "Installing collected packages: geomet, cassandra-driver\n",
            "Successfully installed cassandra-driver-3.29.2 geomet-0.2.1.post1\n"
          ]
        }
      ]
    },
    {
      "cell_type": "code",
      "source": [
        "pip install --upgrade astrapy"
      ],
      "metadata": {
        "id": "bDOX6JsexCk9",
        "colab": {
          "base_uri": "https://localhost:8080/",
          "height": 0
        },
        "outputId": "f5c291f5-3f3e-4d3b-c7d2-dddbd3222acc"
      },
      "execution_count": 5,
      "outputs": [
        {
          "output_type": "stream",
          "name": "stdout",
          "text": [
            "Collecting astrapy\n",
            "  Downloading astrapy-1.5.2-py3-none-any.whl.metadata (19 kB)\n",
            "Collecting deprecation<2.2.0,>=2.1.0 (from astrapy)\n",
            "  Downloading deprecation-2.1.0-py2.py3-none-any.whl.metadata (4.6 kB)\n",
            "Requirement already satisfied: httpx<1,>=0.25.2 in /usr/local/lib/python3.10/dist-packages (from httpx[http2]<1,>=0.25.2->astrapy) (0.27.2)\n",
            "Collecting pymongo>=3 (from astrapy)\n",
            "  Downloading pymongo-4.10.1-cp310-cp310-manylinux_2_17_x86_64.manylinux2014_x86_64.whl.metadata (22 kB)\n",
            "Requirement already satisfied: toml<0.11.0,>=0.10.2 in /usr/local/lib/python3.10/dist-packages (from astrapy) (0.10.2)\n",
            "Collecting uuid6>=2024.1.12 (from astrapy)\n",
            "  Downloading uuid6-2024.7.10-py3-none-any.whl.metadata (8.6 kB)\n",
            "Requirement already satisfied: packaging in /usr/local/lib/python3.10/dist-packages (from deprecation<2.2.0,>=2.1.0->astrapy) (24.2)\n",
            "Requirement already satisfied: anyio in /usr/local/lib/python3.10/dist-packages (from httpx<1,>=0.25.2->httpx[http2]<1,>=0.25.2->astrapy) (3.7.1)\n",
            "Requirement already satisfied: certifi in /usr/local/lib/python3.10/dist-packages (from httpx<1,>=0.25.2->httpx[http2]<1,>=0.25.2->astrapy) (2024.8.30)\n",
            "Requirement already satisfied: httpcore==1.* in /usr/local/lib/python3.10/dist-packages (from httpx<1,>=0.25.2->httpx[http2]<1,>=0.25.2->astrapy) (1.0.7)\n",
            "Requirement already satisfied: idna in /usr/local/lib/python3.10/dist-packages (from httpx<1,>=0.25.2->httpx[http2]<1,>=0.25.2->astrapy) (3.10)\n",
            "Requirement already satisfied: sniffio in /usr/local/lib/python3.10/dist-packages (from httpx<1,>=0.25.2->httpx[http2]<1,>=0.25.2->astrapy) (1.3.1)\n",
            "Requirement already satisfied: h11<0.15,>=0.13 in /usr/local/lib/python3.10/dist-packages (from httpcore==1.*->httpx<1,>=0.25.2->httpx[http2]<1,>=0.25.2->astrapy) (0.14.0)\n",
            "Collecting h2<5,>=3 (from httpx[http2]<1,>=0.25.2->astrapy)\n",
            "  Downloading h2-4.1.0-py3-none-any.whl.metadata (3.6 kB)\n",
            "Collecting dnspython<3.0.0,>=1.16.0 (from pymongo>=3->astrapy)\n",
            "  Downloading dnspython-2.7.0-py3-none-any.whl.metadata (5.8 kB)\n",
            "Collecting hyperframe<7,>=6.0 (from h2<5,>=3->httpx[http2]<1,>=0.25.2->astrapy)\n",
            "  Downloading hyperframe-6.0.1-py3-none-any.whl.metadata (2.7 kB)\n",
            "Collecting hpack<5,>=4.0 (from h2<5,>=3->httpx[http2]<1,>=0.25.2->astrapy)\n",
            "  Downloading hpack-4.0.0-py3-none-any.whl.metadata (2.5 kB)\n",
            "Requirement already satisfied: exceptiongroup in /usr/local/lib/python3.10/dist-packages (from anyio->httpx<1,>=0.25.2->httpx[http2]<1,>=0.25.2->astrapy) (1.2.2)\n",
            "Downloading astrapy-1.5.2-py3-none-any.whl (177 kB)\n",
            "\u001b[2K   \u001b[90m━━━━━━━━━━━━━━━━━━━━━━━━━━━━━━━━━━━━━━━━\u001b[0m \u001b[32m177.1/177.1 kB\u001b[0m \u001b[31m5.5 MB/s\u001b[0m eta \u001b[36m0:00:00\u001b[0m\n",
            "\u001b[?25hDownloading deprecation-2.1.0-py2.py3-none-any.whl (11 kB)\n",
            "Downloading pymongo-4.10.1-cp310-cp310-manylinux_2_17_x86_64.manylinux2014_x86_64.whl (1.4 MB)\n",
            "\u001b[2K   \u001b[90m━━━━━━━━━━━━━━━━━━━━━━━━━━━━━━━━━━━━━━━━\u001b[0m \u001b[32m1.4/1.4 MB\u001b[0m \u001b[31m31.8 MB/s\u001b[0m eta \u001b[36m0:00:00\u001b[0m\n",
            "\u001b[?25hDownloading uuid6-2024.7.10-py3-none-any.whl (6.4 kB)\n",
            "Downloading dnspython-2.7.0-py3-none-any.whl (313 kB)\n",
            "\u001b[2K   \u001b[90m━━━━━━━━━━━━━━━━━━━━━━━━━━━━━━━━━━━━━━━━\u001b[0m \u001b[32m313.6/313.6 kB\u001b[0m \u001b[31m27.3 MB/s\u001b[0m eta \u001b[36m0:00:00\u001b[0m\n",
            "\u001b[?25hDownloading h2-4.1.0-py3-none-any.whl (57 kB)\n",
            "\u001b[2K   \u001b[90m━━━━━━━━━━━━━━━━━━━━━━━━━━━━━━━━━━━━━━━━\u001b[0m \u001b[32m57.5/57.5 kB\u001b[0m \u001b[31m5.4 MB/s\u001b[0m eta \u001b[36m0:00:00\u001b[0m\n",
            "\u001b[?25hDownloading hpack-4.0.0-py3-none-any.whl (32 kB)\n",
            "Downloading hyperframe-6.0.1-py3-none-any.whl (12 kB)\n",
            "Installing collected packages: uuid6, hyperframe, hpack, dnspython, deprecation, pymongo, h2, astrapy\n",
            "Successfully installed astrapy-1.5.2 deprecation-2.1.0 dnspython-2.7.0 h2-4.1.0 hpack-4.0.0 hyperframe-6.0.1 pymongo-4.10.1 uuid6-2024.7.10\n"
          ]
        }
      ]
    },
    {
      "cell_type": "code",
      "execution_count": 11,
      "metadata": {
        "id": "AOqsp0_ogmgx"
      },
      "outputs": [],
      "source": [
        "from cassandra.cluster import Cluster\n",
        "from cassandra.auth import PlainTextAuthProvider\n",
        "import json\n"
      ]
    },
    {
      "cell_type": "code",
      "source": [
        "cloud_config= {\n",
        "        'secure_connect_bundle': 'secure-connect-bigdata.zip'\n",
        "}\n",
        "with open(\"bigdata-token.json\") as f:\n",
        "    secrets = json.load(f)\n",
        "CLIENT_ID = secrets[\"clientId\"]\n",
        "CLIENT_SECRET = secrets[\"secret\"]\n",
        "auth_provider = PlainTextAuthProvider(CLIENT_ID, CLIENT_SECRET)\n",
        "cluster = Cluster(cloud=cloud_config, auth_provider=auth_provider)\n",
        "session = cluster.connect()\n",
        "if session:\n",
        "    print(\"Session is active\")\n",
        "else:\n",
        "    print(\"Session is not active\")"
      ],
      "metadata": {
        "colab": {
          "base_uri": "https://localhost:8080/",
          "height": 0
        },
        "id": "bJSxDnHbs7KO",
        "outputId": "e2ba476c-931a-4d7b-ef09-01cb9d31a22b"
      },
      "execution_count": 13,
      "outputs": [
        {
          "output_type": "stream",
          "name": "stderr",
          "text": [
            "WARNING:cassandra.cluster:Downgrading core protocol version from 66 to 65 for bf6a839c-970f-468d-9f9d-c3023a782d48-eu-west-1.db.astra.datastax.com:29042:b4f6d9ed-0f1d-3f7a-82f1-a4a7ea4f84d4. To avoid this, it is best practice to explicitly set Cluster(protocol_version) to the version supported by your cluster. http://datastax.github.io/python-driver/api/cassandra/cluster.html#cassandra.cluster.Cluster.protocol_version\n",
            "WARNING:cassandra.cluster:Downgrading core protocol version from 65 to 5 for bf6a839c-970f-468d-9f9d-c3023a782d48-eu-west-1.db.astra.datastax.com:29042:b4f6d9ed-0f1d-3f7a-82f1-a4a7ea4f84d4. To avoid this, it is best practice to explicitly set Cluster(protocol_version) to the version supported by your cluster. http://datastax.github.io/python-driver/api/cassandra/cluster.html#cassandra.cluster.Cluster.protocol_version\n",
            "WARNING:cassandra.cluster:Downgrading core protocol version from 5 to 4 for bf6a839c-970f-468d-9f9d-c3023a782d48-eu-west-1.db.astra.datastax.com:29042:b4f6d9ed-0f1d-3f7a-82f1-a4a7ea4f84d4. To avoid this, it is best practice to explicitly set Cluster(protocol_version) to the version supported by your cluster. http://datastax.github.io/python-driver/api/cassandra/cluster.html#cassandra.cluster.Cluster.protocol_version\n"
          ]
        },
        {
          "output_type": "stream",
          "name": "stdout",
          "text": [
            "Session is active\n"
          ]
        }
      ]
    },
    {
      "cell_type": "code",
      "source": [
        "create_table_query = \"\"\"\n",
        "CREATE TABLE sales.sales_data (\n",
        "    Region TEXT,\n",
        "    Country TEXT,\n",
        "    Item_Type TEXT,\n",
        "    Sales_Channel TEXT,\n",
        "    Order_Priority TEXT,\n",
        "    Order_Date TEXT,\n",
        "    Order_ID BIGINT PRIMARY KEY,\n",
        "    Ship_Date TEXT,\n",
        "    Units_Sold INT,\n",
        "    Unit_Price FLOAT,\n",
        "    Unit_Cost FLOAT,\n",
        "    Total_Revenue FLOAT,\n",
        "    Total_Cost FLOAT,\n",
        "    Total_Profit FLOAT\n",
        ");\n",
        "\"\"\"\n",
        "session.execute(create_table_query)\n",
        "print(\"Table created successfully!\")"
      ],
      "metadata": {
        "colab": {
          "base_uri": "https://localhost:8080/",
          "height": 0
        },
        "id": "NWsZhHdVvqTk",
        "outputId": "66d5f742-42a7-4dce-a23c-0eb7917cb643"
      },
      "execution_count": 14,
      "outputs": [
        {
          "output_type": "stream",
          "name": "stdout",
          "text": [
            "Table created successfully!\n"
          ]
        }
      ]
    },
    {
      "cell_type": "code",
      "source": [
        "import pandas as pd\n",
        "from cassandra.cluster import Cluster\n",
        "\n",
        "csv_file_path = \"sales_100.csv\"\n",
        "df = pd.read_csv(csv_file_path)\n",
        "\n",
        "for _, row in df.iterrows():\n",
        "    query = \"\"\"\n",
        "    INSERT INTO sales.sales_data (Region, Country, Item_Type, Sales_Channel, Order_Priority, Order_Date, Order_ID, Ship_Date, Units_Sold, Unit_Price, Unit_Cost, Total_Revenue, Total_Cost, Total_Profit)\n",
        "    VALUES (%s, %s, %s, %s, %s, %s, %s, %s, %s, %s, %s, %s, %s, %s)\n",
        "    \"\"\"\n",
        "    session.execute(query, tuple(row))\n",
        "\n",
        "print(\"Data imported successfully!\")\n"
      ],
      "metadata": {
        "colab": {
          "base_uri": "https://localhost:8080/",
          "height": 0
        },
        "id": "GkfJbRdu4JDo",
        "outputId": "fb3920a1-aedb-4806-b0d5-e769ae6c962f"
      },
      "execution_count": 16,
      "outputs": [
        {
          "output_type": "stream",
          "name": "stdout",
          "text": [
            "Data imported successfully!\n"
          ]
        }
      ]
    },
    {
      "cell_type": "code",
      "source": [
        "query = \"SELECT * FROM sales.sales_data ;\"\n",
        "rows = session.execute(query)\n",
        "\n",
        "for row in rows:\n",
        "    print(row)"
      ],
      "metadata": {
        "colab": {
          "base_uri": "https://localhost:8080/",
          "height": 0
        },
        "id": "P_BQm1PL5ItJ",
        "outputId": "fbeeb838-c4f4-4dae-9c92-3e8f80498ebc"
      },
      "execution_count": 19,
      "outputs": [
        {
          "output_type": "stream",
          "name": "stdout",
          "text": [
            "Row(order_id=294530856, country='Italy', item_type='Cereal', order_date='11/15/2011', order_priority='M', region='Europe', sales_channel='Online', ship_date='12/28/2011', total_cost=829138.8125, total_profit=627217.1875, total_revenue=1456356.0, unit_cost=117.11000061035156, unit_price=205.6999969482422, units_sold=7080)\n",
            "Row(order_id=274930989, country='Dominica', item_type='Household', order_date='11/19/2011', order_priority='C', region='Central America and the Caribbean', sales_channel='Offline', ship_date='12/13/2011', total_cost=3539891.75, total_profit=1167402.125, total_revenue=4707294.0, unit_cost=502.5400085449219, unit_price=668.27001953125, units_sold=7044)\n",
            "Row(order_id=498071897, country='Taiwan', item_type='Cereal', order_date='4/11/2010', order_priority='H', region='Asia', sales_channel='Online', ship_date='5/26/2010', total_cost=1100482.625, total_profit=832480.25, total_revenue=1932962.875, unit_cost=117.11000061035156, unit_price=205.6999969482422, units_sold=9397)\n",
            "Row(order_id=940980136, country='New Zealand', item_type='Beverages', order_date='10/11/2012', order_priority='M', region='Australia and Oceania', sales_channel='Online', ship_date='11/4/2012', total_cost=184000.515625, total_profit=90640.078125, total_revenue=274640.59375, unit_cost=31.790000915527344, unit_price=47.45000076293945, units_sold=5788)\n",
            "Row(order_id=324669444, country='France', item_type='Cosmetics', order_date='12/7/2015', order_priority='M', region='Europe', sales_channel='Online', ship_date='1/18/2016', total_cost=1516254.125, total_profit=1001143.4375, total_revenue=2517397.5, unit_cost=263.3299865722656, unit_price=437.20001220703125, units_sold=5758)\n",
            "Row(order_id=830410039, country='Switzerland', item_type='Office Supplies', order_date='7/29/2014', order_priority='C', region='Europe', sales_channel='Offline', ship_date='8/27/2014', total_cost=2960249.5, total_profit=711923.75, total_revenue=3672173.25, unit_cost=524.9600219726562, unit_price=651.2100219726562, units_sold=5639)\n",
            "Row(order_id=953361213, country='Zimbabwe', item_type='Office Supplies', order_date='3/28/2011', order_priority='C', region='Sub-Saharan Africa', sales_channel='Offline', ship_date='4/8/2011', total_cost=5051690.0, total_profit=1214903.75, total_revenue=6266594.0, unit_cost=524.9600219726562, unit_price=651.2100219726562, units_sold=9623)\n",
            "Row(order_id=425418365, country='United Arab Emirates', item_type='Office Supplies', order_date='6/23/2012', order_priority='M', region='Middle East and North Africa', sales_channel='Online', ship_date='7/6/2012', total_cost=5041191.0, total_profit=1212378.75, total_revenue=6253569.5, unit_cost=524.9600219726562, unit_price=651.2100219726562, units_sold=9603)\n",
            "Row(order_id=349235904, country='Mauritius ', item_type='Clothes', order_date='11/17/2012', order_priority='M', region='Sub-Saharan Africa', sales_channel='Offline', ship_date='12/2/2012', total_cost=197836.796875, total_profit=405388.8125, total_revenue=603225.625, unit_cost=35.84000015258789, unit_price=109.27999877929688, units_sold=5520)\n",
            "Row(order_id=246248090, country='The Bahamas', item_type='Personal Care', order_date='1/19/2011', order_priority='C', region='Central America and the Caribbean', sales_channel='Online', ship_date='2/21/2011', total_cost=517793.78125, total_profit=228973.21875, total_revenue=746767.0, unit_cost=56.66999816894531, unit_price=81.7300033569336, units_sold=9137)\n",
            "Row(order_id=368977391, country='Canada', item_type='Cosmetics', order_date='5/9/2011', order_priority='H', region='North America', sales_channel='Online', ship_date='6/2/2011', total_cost=1965495.125, total_profit=1297765.625, total_revenue=3263260.75, unit_cost=263.3299865722656, unit_price=437.20001220703125, units_sold=7464)\n",
            "Row(order_id=572335612, country='Vanuatu', item_type='Cereal', order_date='6/20/2014', order_priority='C', region='Australia and Oceania', sales_channel='Offline', ship_date='8/5/2014', total_cost=665301.9375, total_profit=503279.78125, total_revenue=1168581.75, unit_cost=117.11000061035156, unit_price=205.6999969482422, units_sold=5681)\n",
            "Row(order_id=443368995, country='South Africa', item_type='Fruits', order_date='7/27/2012', order_priority='M', region='Sub-Saharan Africa', sales_channel='Offline', ship_date='7/28/2012', total_cost=11023.5595703125, total_profit=3839.1298828125, total_revenue=14862.6904296875, unit_cost=6.920000076293945, unit_price=9.329999923706055, units_sold=1593)\n",
            "Row(order_id=156295812, country='East Timor', item_type='Cereal', order_date='12/7/2015', order_priority='M', region='Australia and Oceania', sales_channel='Offline', ship_date='12/30/2015', total_cost=30331.490234375, total_profit=22944.810546875, total_revenue=53276.30078125, unit_cost=117.11000061035156, unit_price=205.6999969482422, units_sold=259)\n",
            "Row(order_id=807785928, country='Ethiopia', item_type='Cosmetics', order_date='7/7/2011', order_priority='M', region='Sub-Saharan Africa', sales_channel='Online', ship_date='7/25/2011', total_cost=174324.453125, total_profit=115101.9375, total_revenue=289426.40625, unit_cost=263.3299865722656, unit_price=437.20001220703125, units_sold=662)\n",
            "Row(order_id=678896129, country='Indonesia', item_type='Personal Care', order_date='10/22/2012', order_priority='L', region='Asia', sales_channel='Offline', ship_date='10/31/2012', total_cost=527371.0, total_profit=233208.359375, total_revenue=760579.375, unit_cost=56.66999816894531, unit_price=81.7300033569336, units_sold=9306)\n",
            "Row(order_id=520480573, country='Indonesia', item_type='Household', order_date='9/28/2011', order_priority='C', region='Asia', sales_channel='Online', ship_date='9/28/2011', total_cost=313082.40625, total_profit=103249.7890625, total_revenue=416332.21875, unit_cost=502.5400085449219, unit_price=668.27001953125, units_sold=623)\n",
            "Row(order_id=925136649, country='Serbia', item_type='Clothes', order_date='7/6/2016', order_priority='L', region='Europe', sales_channel='Offline', ship_date='7/13/2016', total_cost=263352.3125, total_profit=539637.125, total_revenue=802989.4375, unit_cost=35.84000015258789, unit_price=109.27999877929688, units_sold=7348)\n",
            "Row(order_id=222504317, country='Belgium', item_type='Personal Care', order_date='11/1/2011', order_priority='H', region='Europe', sales_channel='Online', ship_date='11/20/2011', total_cost=160206.09375, total_profit=70844.6171875, total_revenue=231050.703125, unit_cost=56.66999816894531, unit_price=81.7300033569336, units_sold=2827)\n",
            "Row(order_id=563681733, country='Togo', item_type='Cosmetics', order_date='9/8/2015', order_priority='M', region='Sub-Saharan Africa', sales_channel='Online', ship_date='9/9/2015', total_cost=1265564.0, total_profit=835619.25, total_revenue=2101183.25, unit_cost=263.3299865722656, unit_price=437.20001220703125, units_sold=4806)\n",
            "Row(order_id=488121116, country='The Bahamas', item_type='Fruits', order_date='6/18/2010', order_priority='L', region='Central America and the Caribbean', sales_channel='Offline', ship_date='6/30/2010', total_cost=32800.80078125, total_profit=11423.400390625, total_revenue=44224.19921875, unit_cost=6.920000076293945, unit_price=9.329999923706055, units_sold=4740)\n",
            "Row(order_id=839094388, country='Tonga', item_type='Baby Food', order_date='5/11/2016', order_priority='L', region='Australia and Oceania', sales_channel='Online', ship_date='5/31/2016', total_cost=881752.0, total_profit=530201.6875, total_revenue=1411953.625, unit_cost=159.4199981689453, unit_price=255.27999877929688, units_sold=5531)\n",
            "Row(order_id=500371730, country='Pakistan', item_type='Meat', order_date='12/28/2013', order_priority='M', region='Middle East and North Africa', sales_channel='Online', ship_date='2/15/2014', total_cost=3635594.5, total_profit=570226.8125, total_revenue=4205821.5, unit_cost=364.69000244140625, unit_price=421.8900146484375, units_sold=9969)\n",
            "Row(order_id=845056617, country='Netherlands', item_type='Fruits', order_date='11/19/2016', order_priority='L', region='Europe', sales_channel='Online', ship_date='11/30/2016', total_cost=68418.0390625, total_profit=23827.669921875, total_revenue=92245.7109375, unit_cost=6.920000076293945, unit_price=9.329999923706055, units_sold=9887)\n",
            "Row(order_id=434008300, country='Thailand', item_type='Fruits', order_date='9/30/2012', order_priority='C', region='Asia', sales_channel='Offline', ship_date='11/14/2012', total_cost=10760.599609375, total_profit=3747.550048828125, total_revenue=14508.150390625, unit_cost=6.920000076293945, unit_price=9.329999923706055, units_sold=1555)\n",
            "Row(order_id=862861335, country='The Gambia', item_type='Fruits', order_date='11/20/2011', order_priority='C', region='Sub-Saharan Africa', sales_channel='Online', ship_date='11/22/2011', total_cost=60197.078125, total_profit=20964.58984375, total_revenue=81161.671875, unit_cost=6.920000076293945, unit_price=9.329999923706055, units_sold=8699)\n",
            "Row(order_id=756839835, country='Romania', item_type='Beverages', order_date='2/19/2012', order_priority='M', region='Europe', sales_channel='Online', ship_date='3/13/2012', total_cost=145629.984375, total_profit=71738.4609375, total_revenue=217368.453125, unit_cost=31.790000915527344, unit_price=47.45000076293945, units_sold=4581)\n",
            "Row(order_id=479969346, country='Tunisia ', item_type='Cosmetics', order_date='7/1/2012', order_priority='H', region='Middle East and North Africa', sales_channel='Offline', ship_date='7/20/2012', total_cost=645158.5, total_profit=425981.5, total_revenue=1071140.0, unit_cost=263.3299865722656, unit_price=437.20001220703125, units_sold=2450)\n",
            "Row(order_id=116205585, country='Turkmenistan', item_type='Vegetables', order_date='4/13/2015', order_priority='M', region='Asia', sales_channel='Online', ship_date='6/2/2015', total_cost=606503.125, total_profit=421077.09375, total_revenue=1027580.1875, unit_cost=90.93000030517578, unit_price=154.05999755859375, units_sold=6670)\n",
            "Row(order_id=496523940, country='Ghana', item_type='Fruits', order_date='5/29/2016', order_priority='M', region='Sub-Saharan Africa', sales_channel='Offline', ship_date='6/4/2016', total_cost=9155.16015625, total_profit=3188.429931640625, total_revenue=12343.58984375, unit_cost=6.920000076293945, unit_price=9.329999923706055, units_sold=1323)\n",
            "Row(order_id=710296428, country='Kazakhstan', item_type='Snacks', order_date='9/8/2013', order_priority='L', region='Asia', sales_channel='Online', ship_date='10/25/2013', total_cost=131738.875, total_profit=74549.28125, total_revenue=206288.15625, unit_cost=97.44000244140625, unit_price=152.5800018310547, units_sold=1352)\n",
            "Row(order_id=642134416, country='Finland', item_type='Vegetables', order_date='10/9/2012', order_priority='C', region='Europe', sales_channel='Offline', ship_date='11/27/2012', total_cost=63469.140625, total_profit=44064.73828125, total_revenue=107533.8828125, unit_cost=90.93000030517578, unit_price=154.05999755859375, units_sold=698)\n",
            "Row(order_id=573998582, country='Nicaragua', item_type='Household', order_date='10/28/2015', order_priority='C', region='Central America and the Caribbean', sales_channel='Online', ship_date='12/7/2015', total_cost=3915289.25, total_profit=1291202.375, total_revenue=5206491.5, unit_cost=502.5400085449219, unit_price=668.27001953125, units_sold=7791)\n",
            "Row(order_id=584356629, country='Democratic Republic of the Congo', item_type='Cosmetics', order_date='10/7/2012', order_priority='M', region='Sub-Saharan Africa', sales_channel='Online', ship_date='10/25/2012', total_cost=781300.125, total_profit=515872.28125, total_revenue=1297172.375, unit_cost=263.3299865722656, unit_price=437.20001220703125, units_sold=2967)\n",
            "Row(order_id=704205024, country='Lebanon', item_type='Meat', order_date='3/8/2017', order_priority='L', region='Middle East and North Africa', sales_channel='Online', ship_date='4/18/2017', total_cost=3198331.25, total_profit=501644.0, total_revenue=3699975.25, unit_cost=364.69000244140625, unit_price=421.8900146484375, units_sold=8770)\n",
            "Row(order_id=830192887, country='Sri Lanka', item_type='Fruits', order_date='11/7/2011', order_priority='L', region='Asia', sales_channel='Online', ship_date='12/18/2011', total_cost=9542.6796875, total_profit=3323.389892578125, total_revenue=12866.0703125, unit_cost=6.920000076293945, unit_price=9.329999923706055, units_sold=1379)\n",
            "Row(order_id=835696351, country='Estonia', item_type='Household', order_date='9/1/2011', order_priority='H', region='Europe', sales_channel='Offline', ship_date='10/21/2011', total_cost=5013339.0, total_profit=1653322.5, total_revenue=6666661.5, unit_cost=502.5400085449219, unit_price=668.27001953125, units_sold=9976)\n",
            "Row(order_id=731120240, country='Saint Lucia', item_type='Fruits', order_date='12/12/2015', order_priority='L', region='Central America and the Caribbean', sales_channel='Offline', ship_date='1/12/2016', total_cost=24780.51953125, total_profit=8630.2099609375, total_revenue=33410.73046875, unit_cost=6.920000076293945, unit_price=9.329999923706055, units_sold=3581)\n",
            "Row(order_id=371502530, country='Israel', item_type='Beverages', order_date='9/8/2013', order_priority='H', region='Middle East and North Africa', sales_channel='Offline', ship_date='10/13/2013', total_cost=149699.109375, total_profit=73742.9375, total_revenue=223442.046875, unit_cost=31.790000915527344, unit_price=47.45000076293945, units_sold=4709)\n",
            "Row(order_id=425793445, country='Seychelles ', item_type='Beverages', order_date='1/18/2013', order_priority='M', region='Sub-Saharan Africa', sales_channel='Online', ship_date='2/16/2013', total_cost=18978.630859375, total_profit=9349.01953125, total_revenue=28327.650390625, unit_cost=31.790000915527344, unit_price=47.45000076293945, units_sold=597)\n",
            "Row(order_id=937431466, country='Samoa ', item_type='Household', order_date='12/5/2016', order_priority='L', region='Australia and Oceania', sales_channel='Online', ship_date='12/8/2016', total_cost=2842868.75, total_profit=937534.625, total_revenue=3780403.5, unit_cost=502.5400085449219, unit_price=668.27001953125, units_sold=5657)\n",
            "Row(order_id=485070693, country='Haiti', item_type='Office Supplies', order_date='12/31/2010', order_priority='C', region='Central America and the Caribbean', sales_channel='Online', ship_date='1/31/2011', total_cost=1077217.875, total_profit=259065.0, total_revenue=1336282.875, unit_cost=524.9600219726562, unit_price=651.2100219726562, units_sold=2052)\n",
            "Row(order_id=757619178, country='Turkmenistan', item_type='Meat', order_date='4/30/2017', order_priority='M', region='Asia', sales_channel='Online', ship_date='5/14/2017', total_cost=1898576.125, total_profit=297783.1875, total_revenue=2196359.25, unit_cost=364.69000244140625, unit_price=421.8900146484375, units_sold=5206)\n",
            "Row(order_id=882908809, country='Egypt', item_type='Clothes', order_date='8/9/2016', order_priority='C', region='Middle East and North Africa', sales_channel='Online', ship_date='8/24/2016', total_cost=42721.28125, total_profit=87540.4765625, total_revenue=130261.7578125, unit_cost=35.84000015258789, unit_price=109.27999877929688, units_sold=1192)\n",
            "Row(order_id=146634709, country='Liberia', item_type='Baby Food', order_date='6/6/2015', order_priority='H', region='Sub-Saharan Africa', sales_channel='Offline', ship_date='6/12/2015', total_cost=211072.078125, total_profit=126918.640625, total_revenue=337990.71875, unit_cost=159.4199981689453, unit_price=255.27999877929688, units_sold=1324)\n",
            "Row(order_id=363086831, country='Mali', item_type='Household', order_date='8/19/2010', order_priority='M', region='Sub-Saharan Africa', sales_channel='Offline', ship_date='9/7/2010', total_cost=2169465.25, total_profit=715456.4375, total_revenue=2884921.5, unit_cost=502.5400085449219, unit_price=668.27001953125, units_sold=4317)\n",
            "Row(order_id=179137074, country='Nepal', item_type='Meat', order_date='2/21/2014', order_priority='H', region='Asia', sales_channel='Online', ship_date='3/14/2014', total_cost=3463096.25, total_profit=543171.1875, total_revenue=4006267.5, unit_cost=364.69000244140625, unit_price=421.8900146484375, units_sold=9496)\n",
            "Row(order_id=529276502, country='Burundi', item_type='Beverages', order_date='3/9/2011', order_priority='H', region='Sub-Saharan Africa', sales_channel='Online', ship_date='4/9/2011', total_cost=112314.0703125, total_profit=55326.78125, total_revenue=167640.84375, unit_cost=31.790000915527344, unit_price=47.45000076293945, units_sold=3533)\n",
            "Row(order_id=297876536, country='South Korea', item_type='Meat', order_date='3/16/2016', order_priority='L', region='Asia', sales_channel='Offline', ship_date='4/20/2016', total_cost=2604251.25, total_profit=408465.1875, total_revenue=3012716.5, unit_cost=364.69000244140625, unit_price=421.8900146484375, units_sold=7141)\n",
            "Row(order_id=459386289, country='Kuwait', item_type='Household', order_date='6/13/2011', order_priority='C', region='Middle East and North Africa', sales_channel='Offline', ship_date='7/21/2011', total_cost=736723.625, total_profit=242960.1875, total_revenue=979683.8125, unit_cost=502.5400085449219, unit_price=668.27001953125, units_sold=1466)\n",
            "Row(order_id=887124383, country='Greece', item_type='Cereal', order_date='8/22/2015', order_priority='H', region='Europe', sales_channel='Online', ship_date='10/8/2015', total_cost=1015812.125, total_profit=768429.6875, total_revenue=1784241.75, unit_cost=117.11000061035156, unit_price=205.6999969482422, units_sold=8674)\n",
            "Row(order_id=824714744, country='Dominican Republic', item_type='Baby Food', order_date='8/25/2011', order_priority='H', region='Central America and the Caribbean', sales_channel='Offline', ship_date='9/24/2011', total_cost=43681.078125, total_profit=26265.640625, total_revenue=69946.71875, unit_cost=159.4199981689453, unit_price=255.27999877929688, units_sold=274)\n",
            "Row(order_id=842238795, country='Uganda', item_type='Cosmetics', order_date='2/28/2015', order_priority='M', region='Sub-Saharan Africa', sales_channel='Online', ship_date='3/15/2015', total_cost=1588143.25, total_profit=1048610.0, total_revenue=2636753.25, unit_cost=263.3299865722656, unit_price=437.20001220703125, units_sold=6031)\n",
            "Row(order_id=797385394, country='Italy', item_type='Office Supplies', order_date='3/29/2011', order_priority='H', region='Europe', sales_channel='Online', ship_date='4/11/2011', total_cost=1529208.5, total_profit=367766.25, total_revenue=1896974.75, unit_cost=524.9600219726562, unit_price=651.2100219726562, units_sold=2913)\n",
            "Row(order_id=153842341, country='Brunei', item_type='Cereal', order_date='5/28/2013', order_priority='L', region='Asia', sales_channel='Offline', ship_date='7/16/2013', total_cost=494438.40625, total_profit=374026.96875, total_revenue=868465.375, unit_cost=117.11000061035156, unit_price=205.6999969482422, units_sold=4222)\n",
            "Row(order_id=659878194, country='Tanzania', item_type='Beverages', order_date='11/30/2016', order_priority='L', region='Sub-Saharan Africa', sales_channel='Online', ship_date='1/16/2017', total_cost=46922.0390625, total_profit=23114.16015625, total_revenue=70036.203125, unit_cost=31.790000915527344, unit_price=47.45000076293945, units_sold=1476)\n",
            "Row(order_id=314505374, country='Vietnam', item_type='Personal Care', order_date='4/4/2010', order_priority='M', region='Asia', sales_channel='Online', ship_date='5/6/2010', total_cost=452453.28125, total_profit=200079.046875, total_revenue=652532.3125, unit_cost=56.66999816894531, unit_price=81.7300033569336, units_sold=7984)\n",
            "Row(order_id=791778934, country='Ghana', item_type='Clothes', order_date='11/2/2011', order_priority='M', region='Sub-Saharan Africa', sales_channel='Online', ship_date='12/1/2011', total_cost=137482.234375, total_profit=281715.84375, total_revenue=419198.09375, unit_cost=35.84000015258789, unit_price=109.27999877929688, units_sold=3836)\n",
            "Row(order_id=747796285, country='Japan', item_type='Household', order_date='7/16/2014', order_priority='M', region='Asia', sales_channel='Offline', ship_date='7/24/2014', total_cost=4217818.0, total_profit=1390971.875, total_revenue=5608790.0, unit_cost=502.5400085449219, unit_price=668.27001953125, units_sold=8393)\n",
            "Row(order_id=667593514, country='Morocco', item_type='Clothes', order_date='9/14/2013', order_priority='M', region='Middle East and North Africa', sales_channel='Online', ship_date='10/19/2013', total_cost=165258.234375, total_profit=338631.84375, total_revenue=503890.09375, unit_cost=35.84000015258789, unit_price=109.27999877929688, units_sold=4611)\n",
            "Row(order_id=887409770, country='Italy', item_type='Cereal', order_date='11/30/2015', order_priority='C', region='Europe', sales_channel='Online', ship_date='12/5/2015', total_cost=366085.875, total_profit=276932.34375, total_revenue=643018.1875, unit_cost=117.11000061035156, unit_price=205.6999969482422, units_sold=3126)\n",
            "Row(order_id=940995585, country='Papua New Guinea', item_type='Meat', order_date='5/15/2015', order_priority='M', region='Australia and Oceania', sales_channel='Offline', ship_date='6/4/2015', total_cost=131288.40625, total_profit=20592.0, total_revenue=151880.40625, unit_cost=364.69000244140625, unit_price=421.8900146484375, units_sold=360)\n",
            "Row(order_id=358570849, country='Oman', item_type='Cosmetics', order_date='11/29/2010', order_priority='H', region='Middle East and North Africa', sales_channel='Online', ship_date='12/28/2010', total_cost=2090050.25, total_profit=1380006.25, total_revenue=3470056.5, unit_cost=263.3299865722656, unit_price=437.20001220703125, units_sold=7937)\n",
            "Row(order_id=678230941, country='Iceland', item_type='Baby Food', order_date='10/2/2010', order_priority='M', region='Europe', sales_channel='Offline', ship_date='11/3/2010', total_cost=392492.03125, total_profit=236007.3125, total_revenue=628499.375, unit_cost=159.4199981689453, unit_price=255.27999877929688, units_sold=2462)\n",
            "Row(order_id=180908620, country='Moldova ', item_type='Fruits', order_date='1/27/2013', order_priority='C', region='Europe', sales_channel='Online', ship_date='3/3/2013', total_cost=25853.119140625, total_profit=9003.759765625, total_revenue=34856.87890625, unit_cost=6.920000076293945, unit_price=9.329999923706055, units_sold=3736)\n",
            "Row(order_id=265081918, country='Sweden', item_type='Beverages', order_date='9/13/2012', order_priority='H', region='Europe', sales_channel='Online', ship_date='10/12/2012', total_cost=78998.1484375, total_profit=38915.1015625, total_revenue=117913.25, unit_cost=31.790000915527344, unit_price=47.45000076293945, units_sold=2485)\n",
            "Row(order_id=315402734, country='Belize', item_type='Personal Care', order_date='6/14/2015', order_priority='H', region='Central America and the Caribbean', sales_channel='Online', ship_date='8/2/2015', total_cost=200215.109375, total_profit=88536.9765625, total_revenue=288752.09375, unit_cost=56.66999816894531, unit_price=81.7300033569336, units_sold=3533)\n",
            "Row(order_id=156530129, country='Tanzania', item_type='Fruits', order_date='10/20/2014', order_priority='H', region='Sub-Saharan Africa', sales_channel='Offline', ship_date='11/29/2014', total_cost=66425.078125, total_profit=23133.58984375, total_revenue=89558.671875, unit_cost=6.920000076293945, unit_price=9.329999923706055, units_sold=9599)\n",
            "Row(order_id=647164094, country='Papua New Guinea', item_type='Clothes', order_date='6/20/2011', order_priority='L', region='Australia and Oceania', sales_channel='Offline', ship_date='7/14/2011', total_cost=325857.28125, total_profit=667716.5, total_revenue=993573.75, unit_cost=35.84000015258789, unit_price=109.27999877929688, units_sold=9092)\n",
            "Row(order_id=286891067, country='Antigua and Barbuda ', item_type='Office Supplies', order_date='10/2/2011', order_priority='C', region='Central America and the Caribbean', sales_channel='Offline', ship_date='10/4/2011', total_cost=3305673.0, total_profit=794996.25, total_revenue=4100669.25, unit_cost=524.9600219726562, unit_price=651.2100219726562, units_sold=6297)\n",
            "Row(order_id=633134210, country='Romania', item_type='Cereal', order_date='4/16/2015', order_priority='M', region='Europe', sales_channel='Online', ship_date='4/18/2015', total_cost=859236.0625, total_profit=649984.8125, total_revenue=1509220.875, unit_cost=117.11000061035156, unit_price=205.6999969482422, units_sold=7337)\n",
            "Row(order_id=548299157, country='Sao Tome and Principe', item_type='Clothes', order_date='11/11/2015', order_priority='L', region='Sub-Saharan Africa', sales_channel='Offline', ship_date='12/28/2015', total_cost=98918.3984375, total_profit=202694.40625, total_revenue=301612.8125, unit_cost=35.84000015258789, unit_price=109.27999877929688, units_sold=2760)\n",
            "Row(order_id=761723172, country='Algeria', item_type='Cosmetics', order_date='2/18/2011', order_priority='M', region='Middle East and North Africa', sales_channel='Online', ship_date='2/24/2011', total_cost=2546137.75, total_profit=1681149.0, total_revenue=4227287.0, unit_cost=263.3299865722656, unit_price=437.20001220703125, units_sold=9669)\n",
            "Row(order_id=699160754, country='Rwanda', item_type='Fruits', order_date='9/5/2012', order_priority='L', region='Sub-Saharan Africa', sales_channel='Online', ship_date='9/15/2012', total_cost=41928.28125, total_profit=14602.1904296875, total_revenue=56530.46875, unit_cost=6.920000076293945, unit_price=9.329999923706055, units_sold=6059)\n",
            "Row(order_id=174590194, country='Slovakia', item_type='Beverages', order_date='10/26/2016', order_priority='L', region='Europe', sales_channel='Offline', ship_date='12/4/2016', total_cost=126301.671875, total_profit=62217.1796875, total_revenue=188518.84375, unit_cost=31.790000915527344, unit_price=47.45000076293945, units_sold=3973)\n",
            "Row(order_id=440306556, country='India', item_type='Snacks', order_date='10/10/2012', order_priority='L', region='Asia', sales_channel='Online', ship_date='11/20/2012', total_cost=521206.5625, total_profit=294943.875, total_revenue=816150.4375, unit_cost=97.44000244140625, unit_price=152.5800018310547, units_sold=5349)\n",
            "Row(order_id=571997869, country='Vanuatu', item_type='Fruits', order_date='11/3/2013', order_priority='C', region='Australia and Oceania', sales_channel='Online', ship_date='11/11/2013', total_cost=39686.19921875, total_profit=13821.349609375, total_revenue=53507.55078125, unit_cost=6.920000076293945, unit_price=9.329999923706055, units_sold=5735)\n",
            "Row(order_id=101328551, country='Solomon Islands', item_type='Household', order_date='12/17/2010', order_priority='M', region='Australia and Oceania', sales_channel='Online', ship_date='12/28/2010', total_cost=2123231.5, total_profit=700209.25, total_revenue=2823440.75, unit_cost=502.5400085449219, unit_price=668.27001953125, units_sold=4225)\n",
            "Row(order_id=757257401, country='Finland', item_type='Household', order_date='1/15/2016', order_priority='H', region='Europe', sales_channel='Offline', ship_date='1/31/2016', total_cost=4094696.0, total_profit=1350368.0, total_revenue=5445064.0, unit_cost=502.5400085449219, unit_price=668.27001953125, units_sold=8148)\n",
            "Row(order_id=438011872, country='Dominica', item_type='Beverages', order_date='6/12/2012', order_priority='L', region='Central America and the Caribbean', sales_channel='Online', ship_date='7/18/2012', total_cost=200308.796875, total_profit=98673.65625, total_revenue=298982.4375, unit_cost=31.790000915527344, unit_price=47.45000076293945, units_sold=6301)\n",
            "Row(order_id=732588374, country='Taiwan', item_type='Fruits', order_date='2/9/2014', order_priority='M', region='Asia', sales_channel='Offline', ship_date='2/23/2014', total_cost=55595.28125, total_profit=19361.939453125, total_revenue=74957.21875, unit_cost=6.920000076293945, unit_price=9.329999923706055, units_sold=8034)\n",
            "Row(order_id=726137769, country='Czech Republic', item_type='Cosmetics', order_date='3/22/2014', order_priority='H', region='Europe', sales_channel='Online', ship_date='4/26/2014', total_cost=2411312.75, total_profit=1592127.625, total_revenue=4003440.5, unit_cost=263.3299865722656, unit_price=437.20001220703125, units_sold=9157)\n",
            "Row(order_id=467399013, country='Monaco', item_type='Beverages', order_date='5/29/2016', order_priority='M', region='Europe', sales_channel='Offline', ship_date='6/14/2016', total_cost=82940.109375, total_profit=40856.94140625, total_revenue=123797.046875, unit_cost=31.790000915527344, unit_price=47.45000076293945, units_sold=2609)\n",
            "Row(order_id=176461303, country='Singapore', item_type='Snacks', order_date='1/28/2013', order_priority='C', region='Asia', sales_channel='Online', ship_date='2/7/2013', total_cost=747949.4375, total_profit=423254.625, total_revenue=1171204.125, unit_cost=97.44000244140625, unit_price=152.5800018310547, units_sold=7676)\n",
            "Row(order_id=450544869, country='Malawi', item_type='Meat', order_date='3/1/2016', order_priority='H', region='Sub-Saharan Africa', sales_channel='Offline', ship_date='3/12/2016', total_cost=1857730.875, total_profit=291376.8125, total_revenue=2149107.75, unit_cost=364.69000244140625, unit_price=421.8900146484375, units_sold=5094)\n",
            "Row(order_id=902511680, country='Montenegro', item_type='Clothes', order_date='9/4/2016', order_priority='M', region='Europe', sales_channel='Offline', ship_date='9/8/2016', total_cost=75873.28125, total_profit=155472.484375, total_revenue=231345.765625, unit_cost=35.84000015258789, unit_price=109.27999877929688, units_sold=2117)\n",
            "Row(order_id=739008080, country='Tanzania', item_type='Cosmetics', order_date='5/23/2016', order_priority='L', region='Sub-Saharan Africa', sales_channel='Offline', ship_date='5/24/2016', total_cost=2045547.5, total_profit=1350622.125, total_revenue=3396169.5, unit_cost=263.3299865722656, unit_price=437.20001220703125, units_sold=7768)\n",
            "Row(order_id=252889239, country='Thailand', item_type='Meat', order_date='2/4/2015', order_priority='C', region='Asia', sales_channel='Online', ship_date='2/19/2015', total_cost=1605000.75, total_profit=251737.203125, total_revenue=1856737.875, unit_cost=364.69000244140625, unit_price=421.8900146484375, units_sold=4401)\n",
            "Row(order_id=190777862, country='United States of America', item_type='Personal Care', order_date='1/21/2016', order_priority='H', region='North America', sales_channel='Online', ship_date='2/19/2016', total_cost=241640.875, total_profit=106855.84375, total_revenue=348496.71875, unit_cost=56.66999816894531, unit_price=81.7300033569336, units_sold=4264)\n",
            "Row(order_id=104191863, country='Albania', item_type='Personal Care', order_date='2/6/2016', order_priority='M', region='Europe', sales_channel='Offline', ship_date='2/11/2016', total_cost=87441.8125, total_profit=38667.578125, total_revenue=126109.390625, unit_cost=56.66999816894531, unit_price=81.7300033569336, units_sold=1543)\n",
            "Row(order_id=343752610, country='Nicaragua', item_type='Baby Food', order_date='11/11/2016', order_priority='L', region='Central America and the Caribbean', sales_channel='Online', ship_date='11/16/2016', total_cost=460883.21875, total_profit=277131.25, total_revenue=738014.5, unit_cost=159.4199981689453, unit_price=255.27999877929688, units_sold=2891)\n",
            "Row(order_id=955894076, country='Malaysia', item_type='Beverages', order_date='11/13/2014', order_priority='M', region='Asia', sales_channel='Online', ship_date='12/28/2014', total_cost=291005.65625, total_profit=143351.640625, total_revenue=434357.3125, unit_cost=31.790000915527344, unit_price=47.45000076293945, units_sold=9154)\n",
            "Row(order_id=752525556, country='Albania', item_type='Baby Food', order_date='7/19/2012', order_priority='H', region='Europe', sales_channel='Offline', ship_date='8/13/2012', total_cost=1257823.75, total_profit=756335.375, total_revenue=2014159.25, unit_cost=159.4199981689453, unit_price=255.27999877929688, units_sold=7890)\n",
            "Row(order_id=539471471, country='Uganda', item_type='Personal Care', order_date='6/19/2014', order_priority='M', region='Sub-Saharan Africa', sales_channel='Online', ship_date='7/21/2014', total_cost=25558.169921875, total_profit=11302.0595703125, total_revenue=36860.23046875, unit_cost=56.66999816894531, unit_price=81.7300033569336, units_sold=451)\n",
            "Row(order_id=198927056, country='China', item_type='Office Supplies', order_date='2/10/2016', order_priority='M', region='Asia', sales_channel='Online', ship_date='3/29/2016', total_cost=3040043.25, total_profit=731113.75, total_revenue=3771157.0, unit_cost=524.9600219726562, unit_price=651.2100219726562, units_sold=5791)\n",
            "Row(order_id=880811536, country='Djibouti', item_type='Clothes', order_date='5/17/2017', order_priority='H', region='Sub-Saharan Africa', sales_channel='Offline', ship_date='7/2/2017', total_cost=20142.080078125, total_profit=41273.28125, total_revenue=61415.359375, unit_cost=35.84000015258789, unit_price=109.27999877929688, units_sold=562)\n",
            "Row(order_id=601245963, country='Ghana', item_type='Office Supplies', order_date='3/23/2017', order_priority='L', region='Sub-Saharan Africa', sales_channel='Online', ship_date='4/15/2017', total_cost=470364.15625, total_profit=113120.0, total_revenue=583484.1875, unit_cost=524.9600219726562, unit_price=651.2100219726562, units_sold=896)\n",
            "Row(order_id=494570004, country='Madagascar', item_type='Clothes', order_date='10/17/2016', order_priority='L', region='Sub-Saharan Africa', sales_channel='Online', ship_date='10/26/2016', total_cost=111462.3984375, total_profit=228398.40625, total_revenue=339860.8125, unit_cost=35.84000015258789, unit_price=109.27999877929688, units_sold=3110)\n",
            "Row(order_id=135178029, country='United Kingdom', item_type='Cosmetics', order_date='5/1/2015', order_priority='L', region='Europe', sales_channel='Online', ship_date='5/16/2015', total_cost=273336.53125, total_profit=180477.0625, total_revenue=453813.59375, unit_cost=263.3299865722656, unit_price=437.20001220703125, units_sold=1038)\n"
          ]
        }
      ]
    },
    {
      "cell_type": "code",
      "source": [
        "\n",
        "create_silver_table_query = \"\"\"\n",
        "CREATE TABLE IF NOT EXISTS sales.silver_sales_data (\n",
        "    order_id UUID PRIMARY KEY,\n",
        "    region TEXT,\n",
        "    country TEXT,\n",
        "    item_type TEXT,\n",
        "    sales_channel TEXT,\n",
        "    order_priority TEXT,\n",
        "    order_date DATE,\n",
        "    ship_date DATE,\n",
        "    units_sold INT,\n",
        "    unit_price DECIMAL,\n",
        "    unit_cost DECIMAL,\n",
        "    total_revenue DECIMAL,\n",
        "    total_cost DECIMAL,\n",
        "    total_profit DECIMAL\n",
        ");\n",
        "\n",
        "\n",
        "\"\"\"\n",
        "\n",
        "session.execute(create_silver_table_query)\n",
        "\n"
      ],
      "metadata": {
        "colab": {
          "base_uri": "https://localhost:8080/",
          "height": 0
        },
        "id": "f2qin8mUsePE",
        "outputId": "0d477366-776d-4394-cb1e-7cdfd8a0db09"
      },
      "execution_count": 75,
      "outputs": [
        {
          "output_type": "execute_result",
          "data": {
            "text/plain": [
              "<cassandra.cluster.ResultSet at 0x7946702ac850>"
            ]
          },
          "metadata": {},
          "execution_count": 75
        }
      ]
    },
    {
      "cell_type": "code",
      "source": [
        "import pandas as pd\n",
        "from cassandra.cluster import Cluster\n",
        "from datetime import datetime\n",
        "\n",
        "csv_file_path = \"sales_100.csv\"\n",
        "df = pd.read_csv(csv_file_path)\n",
        "\n",
        "df.columns = df.columns.str.strip()\n",
        "\n",
        "print(\"Column names in the DataFrame:\", df.columns)\n",
        "\n",
        "df['Order Date'] = pd.to_datetime(df['Order Date'], format='%m/%d/%Y')\n",
        "df['Ship Date'] = pd.to_datetime(df['Ship Date'], format='%m/%d/%Y')\n",
        "\n",
        "required_columns = ['Order ID', 'Region', 'Country', 'Item Type', 'Sales Channel', 'Order Priority',\n",
        "                    'Order Date', 'Ship Date', 'UnitsSold', 'UnitPrice', 'UnitCost', 'TotalRevenue',\n",
        "                    'TotalCost', 'TotalProfit']\n",
        "\n",
        "missing_columns = [col for col in required_columns if col not in df.columns]\n",
        "\n",
        "if missing_columns:\n",
        "    print(f\"Missing columns in the DataFrame: {missing_columns}\")\n",
        "else:\n",
        "\n",
        "    for _, row in df.iterrows():\n",
        "\n",
        "        query = \"\"\"\n",
        "        INSERT INTO sales.silver_sales_data (\n",
        "            order_id, region, country, item_type, sales_channel, order_priority,\n",
        "            order_date, ship_date, units_sold, unit_price, unit_cost, total_revenue,\n",
        "            total_cost, total_profit\n",
        "        )\n",
        "        VALUES (%s, %s, %s, %s, %s, %s, %s, %s, %s, %s, %s, %s, %s, %s)\n",
        "        \"\"\"\n",
        "\n",
        "        session.execute(query, (\n",
        "            row['Order ID'],  # UUID type\n",
        "            row['Region'],  # TEXT type\n",
        "            row['Country'],  # TEXT type\n",
        "            row['Item Type'],  # TEXT type\n",
        "            row['Sales Channel'],  # TEXT type\n",
        "            row['Order Priority'],  # TEXT type\n",
        "            row['Order Date'].date(),  # Convert to DATE format\n",
        "            row['Ship Date'].date(),  # Convert to DATE format\n",
        "            int(row['UnitsSold']),  # INT type\n",
        "            float(row['UnitPrice']),  # DECIMAL type\n",
        "            float(row['UnitCost']),  # DECIMAL type\n",
        "            float(row['TotalRevenue']),  # DECIMAL type\n",
        "            float(row['TotalCost']),  # DECIMAL type\n",
        "            float(row['TotalProfit'])  # DECIMAL type\n",
        "        ))\n",
        "\n",
        "    print(\"Silver table populated successfully!\")\n"
      ],
      "metadata": {
        "colab": {
          "base_uri": "https://localhost:8080/",
          "height": 0
        },
        "id": "PH_0yyVztSeQ",
        "outputId": "f5f230aa-cc8e-4244-8cbe-2e1544026dc6"
      },
      "execution_count": 79,
      "outputs": [
        {
          "output_type": "stream",
          "name": "stdout",
          "text": [
            "Column names in the DataFrame: Index(['Region', 'Country', 'Item Type', 'Sales Channel', 'Order Priority',\n",
            "       'Order Date', 'Order ID', 'Ship Date', 'UnitsSold', 'UnitPrice',\n",
            "       'UnitCost', 'TotalRevenue', 'TotalCost', 'TotalProfit'],\n",
            "      dtype='object')\n",
            "Silver table populated successfully!\n"
          ]
        }
      ]
    },
    {
      "cell_type": "code",
      "source": [
        "query = \"SELECT * FROM sales.silver_sales_data ;\"\n",
        "rows = session.execute(query)\n",
        "\n",
        "for row in rows:\n",
        "    print(row)"
      ],
      "metadata": {
        "colab": {
          "base_uri": "https://localhost:8080/",
          "height": 0
        },
        "id": "28-VyZhkv2qD",
        "outputId": "54d073b7-70c0-44ee-bd85-4bfeb24400d6"
      },
      "execution_count": 81,
      "outputs": [
        {
          "output_type": "stream",
          "name": "stdout",
          "text": [
            "Row(order_id=294530856, country='Italy', item_type='Cereal', order_age=None, order_date='2011-11-15', order_priority='M', profit_per_unit=None, region='Europe', revenue_per_unit=None, sales_channel='Online', ship_date='2011-12-28', total_cost=829138.8125, total_profit=627217.1875, total_revenue=1456356.0, unit_cost=117.11000061035156, unit_price=205.6999969482422, units_sold=7080)\n",
            "Row(order_id=274930989, country='Dominica', item_type='Household', order_age=None, order_date='2011-11-19', order_priority='C', profit_per_unit=None, region='Central America and the Caribbean', revenue_per_unit=None, sales_channel='Offline', ship_date='2011-12-13', total_cost=3539891.75, total_profit=1167402.125, total_revenue=4707294.0, unit_cost=502.5400085449219, unit_price=668.27001953125, units_sold=7044)\n",
            "Row(order_id=498071897, country='Taiwan', item_type='Cereal', order_age=None, order_date='2010-04-11', order_priority='H', profit_per_unit=None, region='Asia', revenue_per_unit=None, sales_channel='Online', ship_date='2010-05-26', total_cost=1100482.625, total_profit=832480.25, total_revenue=1932962.875, unit_cost=117.11000061035156, unit_price=205.6999969482422, units_sold=9397)\n",
            "Row(order_id=940980136, country='New Zealand', item_type='Beverages', order_age=None, order_date='2012-10-11', order_priority='M', profit_per_unit=None, region='Australia and Oceania', revenue_per_unit=None, sales_channel='Online', ship_date='2012-11-04', total_cost=184000.515625, total_profit=90640.078125, total_revenue=274640.59375, unit_cost=31.790000915527344, unit_price=47.45000076293945, units_sold=5788)\n",
            "Row(order_id=324669444, country='France', item_type='Cosmetics', order_age=None, order_date='2015-12-07', order_priority='M', profit_per_unit=None, region='Europe', revenue_per_unit=None, sales_channel='Online', ship_date='2016-01-18', total_cost=1516254.125, total_profit=1001143.4375, total_revenue=2517397.5, unit_cost=263.3299865722656, unit_price=437.20001220703125, units_sold=5758)\n",
            "Row(order_id=830410039, country='Switzerland', item_type='Office Supplies', order_age=None, order_date='2014-07-29', order_priority='C', profit_per_unit=None, region='Europe', revenue_per_unit=None, sales_channel='Offline', ship_date='2014-08-27', total_cost=2960249.5, total_profit=711923.75, total_revenue=3672173.25, unit_cost=524.9600219726562, unit_price=651.2100219726562, units_sold=5639)\n",
            "Row(order_id=953361213, country='Zimbabwe', item_type='Office Supplies', order_age=None, order_date='2011-03-28', order_priority='C', profit_per_unit=None, region='Sub-Saharan Africa', revenue_per_unit=None, sales_channel='Offline', ship_date='2011-04-08', total_cost=5051690.0, total_profit=1214903.75, total_revenue=6266594.0, unit_cost=524.9600219726562, unit_price=651.2100219726562, units_sold=9623)\n",
            "Row(order_id=425418365, country='United Arab Emirates', item_type='Office Supplies', order_age=None, order_date='2012-06-23', order_priority='M', profit_per_unit=None, region='Middle East and North Africa', revenue_per_unit=None, sales_channel='Online', ship_date='2012-07-06', total_cost=5041191.0, total_profit=1212378.75, total_revenue=6253569.5, unit_cost=524.9600219726562, unit_price=651.2100219726562, units_sold=9603)\n",
            "Row(order_id=349235904, country='Mauritius ', item_type='Clothes', order_age=None, order_date='2012-11-17', order_priority='M', profit_per_unit=None, region='Sub-Saharan Africa', revenue_per_unit=None, sales_channel='Offline', ship_date='2012-12-02', total_cost=197836.796875, total_profit=405388.8125, total_revenue=603225.625, unit_cost=35.84000015258789, unit_price=109.27999877929688, units_sold=5520)\n",
            "Row(order_id=246248090, country='The Bahamas', item_type='Personal Care', order_age=None, order_date='2011-01-19', order_priority='C', profit_per_unit=None, region='Central America and the Caribbean', revenue_per_unit=None, sales_channel='Online', ship_date='2011-02-21', total_cost=517793.78125, total_profit=228973.21875, total_revenue=746767.0, unit_cost=56.66999816894531, unit_price=81.7300033569336, units_sold=9137)\n",
            "Row(order_id=368977391, country='Canada', item_type='Cosmetics', order_age=None, order_date='2011-05-09', order_priority='H', profit_per_unit=None, region='North America', revenue_per_unit=None, sales_channel='Online', ship_date='2011-06-02', total_cost=1965495.125, total_profit=1297765.625, total_revenue=3263260.75, unit_cost=263.3299865722656, unit_price=437.20001220703125, units_sold=7464)\n",
            "Row(order_id=572335612, country='Vanuatu', item_type='Cereal', order_age=None, order_date='2014-06-20', order_priority='C', profit_per_unit=None, region='Australia and Oceania', revenue_per_unit=None, sales_channel='Offline', ship_date='2014-08-05', total_cost=665301.9375, total_profit=503279.78125, total_revenue=1168581.75, unit_cost=117.11000061035156, unit_price=205.6999969482422, units_sold=5681)\n",
            "Row(order_id=443368995, country='South Africa', item_type='Fruits', order_age=None, order_date='2012-07-27', order_priority='M', profit_per_unit=None, region='Sub-Saharan Africa', revenue_per_unit=None, sales_channel='Offline', ship_date='2012-07-28', total_cost=11023.5595703125, total_profit=3839.1298828125, total_revenue=14862.6904296875, unit_cost=6.920000076293945, unit_price=9.329999923706055, units_sold=1593)\n",
            "Row(order_id=156295812, country='East Timor', item_type='Cereal', order_age=None, order_date='2015-12-07', order_priority='M', profit_per_unit=None, region='Australia and Oceania', revenue_per_unit=None, sales_channel='Offline', ship_date='2015-12-30', total_cost=30331.490234375, total_profit=22944.810546875, total_revenue=53276.30078125, unit_cost=117.11000061035156, unit_price=205.6999969482422, units_sold=259)\n",
            "Row(order_id=807785928, country='Ethiopia', item_type='Cosmetics', order_age=None, order_date='2011-07-07', order_priority='M', profit_per_unit=None, region='Sub-Saharan Africa', revenue_per_unit=None, sales_channel='Online', ship_date='2011-07-25', total_cost=174324.453125, total_profit=115101.9375, total_revenue=289426.40625, unit_cost=263.3299865722656, unit_price=437.20001220703125, units_sold=662)\n",
            "Row(order_id=678896129, country='Indonesia', item_type='Personal Care', order_age=None, order_date='2012-10-22', order_priority='L', profit_per_unit=None, region='Asia', revenue_per_unit=None, sales_channel='Offline', ship_date='2012-10-31', total_cost=527371.0, total_profit=233208.359375, total_revenue=760579.375, unit_cost=56.66999816894531, unit_price=81.7300033569336, units_sold=9306)\n",
            "Row(order_id=520480573, country='Indonesia', item_type='Household', order_age=None, order_date='2011-09-28', order_priority='C', profit_per_unit=None, region='Asia', revenue_per_unit=None, sales_channel='Online', ship_date='2011-09-28', total_cost=313082.40625, total_profit=103249.7890625, total_revenue=416332.21875, unit_cost=502.5400085449219, unit_price=668.27001953125, units_sold=623)\n",
            "Row(order_id=925136649, country='Serbia', item_type='Clothes', order_age=None, order_date='2016-07-06', order_priority='L', profit_per_unit=None, region='Europe', revenue_per_unit=None, sales_channel='Offline', ship_date='2016-07-13', total_cost=263352.3125, total_profit=539637.125, total_revenue=802989.4375, unit_cost=35.84000015258789, unit_price=109.27999877929688, units_sold=7348)\n",
            "Row(order_id=222504317, country='Belgium', item_type='Personal Care', order_age=None, order_date='2011-11-01', order_priority='H', profit_per_unit=None, region='Europe', revenue_per_unit=None, sales_channel='Online', ship_date='2011-11-20', total_cost=160206.09375, total_profit=70844.6171875, total_revenue=231050.703125, unit_cost=56.66999816894531, unit_price=81.7300033569336, units_sold=2827)\n",
            "Row(order_id=563681733, country='Togo', item_type='Cosmetics', order_age=None, order_date='2015-09-08', order_priority='M', profit_per_unit=None, region='Sub-Saharan Africa', revenue_per_unit=None, sales_channel='Online', ship_date='2015-09-09', total_cost=1265564.0, total_profit=835619.25, total_revenue=2101183.25, unit_cost=263.3299865722656, unit_price=437.20001220703125, units_sold=4806)\n",
            "Row(order_id=488121116, country='The Bahamas', item_type='Fruits', order_age=None, order_date='2010-06-18', order_priority='L', profit_per_unit=None, region='Central America and the Caribbean', revenue_per_unit=None, sales_channel='Offline', ship_date='2010-06-30', total_cost=32800.80078125, total_profit=11423.400390625, total_revenue=44224.19921875, unit_cost=6.920000076293945, unit_price=9.329999923706055, units_sold=4740)\n",
            "Row(order_id=839094388, country='Tonga', item_type='Baby Food', order_age=None, order_date='2016-05-11', order_priority='L', profit_per_unit=None, region='Australia and Oceania', revenue_per_unit=None, sales_channel='Online', ship_date='2016-05-31', total_cost=881752.0, total_profit=530201.6875, total_revenue=1411953.625, unit_cost=159.4199981689453, unit_price=255.27999877929688, units_sold=5531)\n",
            "Row(order_id=500371730, country='Pakistan', item_type='Meat', order_age=None, order_date='2013-12-28', order_priority='M', profit_per_unit=None, region='Middle East and North Africa', revenue_per_unit=None, sales_channel='Online', ship_date='2014-02-15', total_cost=3635594.5, total_profit=570226.8125, total_revenue=4205821.5, unit_cost=364.69000244140625, unit_price=421.8900146484375, units_sold=9969)\n",
            "Row(order_id=845056617, country='Netherlands', item_type='Fruits', order_age=None, order_date='2016-11-19', order_priority='L', profit_per_unit=None, region='Europe', revenue_per_unit=None, sales_channel='Online', ship_date='2016-11-30', total_cost=68418.0390625, total_profit=23827.669921875, total_revenue=92245.7109375, unit_cost=6.920000076293945, unit_price=9.329999923706055, units_sold=9887)\n",
            "Row(order_id=434008300, country='Thailand', item_type='Fruits', order_age=None, order_date='2012-09-30', order_priority='C', profit_per_unit=None, region='Asia', revenue_per_unit=None, sales_channel='Offline', ship_date='2012-11-14', total_cost=10760.599609375, total_profit=3747.550048828125, total_revenue=14508.150390625, unit_cost=6.920000076293945, unit_price=9.329999923706055, units_sold=1555)\n",
            "Row(order_id=862861335, country='The Gambia', item_type='Fruits', order_age=None, order_date='2011-11-20', order_priority='C', profit_per_unit=None, region='Sub-Saharan Africa', revenue_per_unit=None, sales_channel='Online', ship_date='2011-11-22', total_cost=60197.078125, total_profit=20964.58984375, total_revenue=81161.671875, unit_cost=6.920000076293945, unit_price=9.329999923706055, units_sold=8699)\n",
            "Row(order_id=756839835, country='Romania', item_type='Beverages', order_age=None, order_date='2012-02-19', order_priority='M', profit_per_unit=None, region='Europe', revenue_per_unit=None, sales_channel='Online', ship_date='2012-03-13', total_cost=145629.984375, total_profit=71738.4609375, total_revenue=217368.453125, unit_cost=31.790000915527344, unit_price=47.45000076293945, units_sold=4581)\n",
            "Row(order_id=479969346, country='Tunisia ', item_type='Cosmetics', order_age=None, order_date='2012-07-01', order_priority='H', profit_per_unit=None, region='Middle East and North Africa', revenue_per_unit=None, sales_channel='Offline', ship_date='2012-07-20', total_cost=645158.5, total_profit=425981.5, total_revenue=1071140.0, unit_cost=263.3299865722656, unit_price=437.20001220703125, units_sold=2450)\n",
            "Row(order_id=116205585, country='Turkmenistan', item_type='Vegetables', order_age=None, order_date='2015-04-13', order_priority='M', profit_per_unit=None, region='Asia', revenue_per_unit=None, sales_channel='Online', ship_date='2015-06-02', total_cost=606503.125, total_profit=421077.09375, total_revenue=1027580.1875, unit_cost=90.93000030517578, unit_price=154.05999755859375, units_sold=6670)\n",
            "Row(order_id=496523940, country='Ghana', item_type='Fruits', order_age=None, order_date='2016-05-29', order_priority='M', profit_per_unit=None, region='Sub-Saharan Africa', revenue_per_unit=None, sales_channel='Offline', ship_date='2016-06-04', total_cost=9155.16015625, total_profit=3188.429931640625, total_revenue=12343.58984375, unit_cost=6.920000076293945, unit_price=9.329999923706055, units_sold=1323)\n",
            "Row(order_id=710296428, country='Kazakhstan', item_type='Snacks', order_age=None, order_date='2013-09-08', order_priority='L', profit_per_unit=None, region='Asia', revenue_per_unit=None, sales_channel='Online', ship_date='2013-10-25', total_cost=131738.875, total_profit=74549.28125, total_revenue=206288.15625, unit_cost=97.44000244140625, unit_price=152.5800018310547, units_sold=1352)\n",
            "Row(order_id=642134416, country='Finland', item_type='Vegetables', order_age=None, order_date='2012-10-09', order_priority='C', profit_per_unit=None, region='Europe', revenue_per_unit=None, sales_channel='Offline', ship_date='2012-11-27', total_cost=63469.140625, total_profit=44064.73828125, total_revenue=107533.8828125, unit_cost=90.93000030517578, unit_price=154.05999755859375, units_sold=698)\n",
            "Row(order_id=573998582, country='Nicaragua', item_type='Household', order_age=None, order_date='2015-10-28', order_priority='C', profit_per_unit=None, region='Central America and the Caribbean', revenue_per_unit=None, sales_channel='Online', ship_date='2015-12-07', total_cost=3915289.25, total_profit=1291202.375, total_revenue=5206491.5, unit_cost=502.5400085449219, unit_price=668.27001953125, units_sold=7791)\n",
            "Row(order_id=584356629, country='Democratic Republic of the Congo', item_type='Cosmetics', order_age=None, order_date='2012-10-07', order_priority='M', profit_per_unit=None, region='Sub-Saharan Africa', revenue_per_unit=None, sales_channel='Online', ship_date='2012-10-25', total_cost=781300.125, total_profit=515872.28125, total_revenue=1297172.375, unit_cost=263.3299865722656, unit_price=437.20001220703125, units_sold=2967)\n",
            "Row(order_id=704205024, country='Lebanon', item_type='Meat', order_age=None, order_date='2017-03-08', order_priority='L', profit_per_unit=None, region='Middle East and North Africa', revenue_per_unit=None, sales_channel='Online', ship_date='2017-04-18', total_cost=3198331.25, total_profit=501644.0, total_revenue=3699975.25, unit_cost=364.69000244140625, unit_price=421.8900146484375, units_sold=8770)\n",
            "Row(order_id=830192887, country='Sri Lanka', item_type='Fruits', order_age=None, order_date='2011-11-07', order_priority='L', profit_per_unit=None, region='Asia', revenue_per_unit=None, sales_channel='Online', ship_date='2011-12-18', total_cost=9542.6796875, total_profit=3323.389892578125, total_revenue=12866.0703125, unit_cost=6.920000076293945, unit_price=9.329999923706055, units_sold=1379)\n",
            "Row(order_id=835696351, country='Estonia', item_type='Household', order_age=None, order_date='2011-09-01', order_priority='H', profit_per_unit=None, region='Europe', revenue_per_unit=None, sales_channel='Offline', ship_date='2011-10-21', total_cost=5013339.0, total_profit=1653322.5, total_revenue=6666661.5, unit_cost=502.5400085449219, unit_price=668.27001953125, units_sold=9976)\n",
            "Row(order_id=731120240, country='Saint Lucia', item_type='Fruits', order_age=None, order_date='2015-12-12', order_priority='L', profit_per_unit=None, region='Central America and the Caribbean', revenue_per_unit=None, sales_channel='Offline', ship_date='2016-01-12', total_cost=24780.51953125, total_profit=8630.2099609375, total_revenue=33410.73046875, unit_cost=6.920000076293945, unit_price=9.329999923706055, units_sold=3581)\n",
            "Row(order_id=371502530, country='Israel', item_type='Beverages', order_age=None, order_date='2013-09-08', order_priority='H', profit_per_unit=None, region='Middle East and North Africa', revenue_per_unit=None, sales_channel='Offline', ship_date='2013-10-13', total_cost=149699.109375, total_profit=73742.9375, total_revenue=223442.046875, unit_cost=31.790000915527344, unit_price=47.45000076293945, units_sold=4709)\n",
            "Row(order_id=425793445, country='Seychelles ', item_type='Beverages', order_age=None, order_date='2013-01-18', order_priority='M', profit_per_unit=None, region='Sub-Saharan Africa', revenue_per_unit=None, sales_channel='Online', ship_date='2013-02-16', total_cost=18978.630859375, total_profit=9349.01953125, total_revenue=28327.650390625, unit_cost=31.790000915527344, unit_price=47.45000076293945, units_sold=597)\n",
            "Row(order_id=937431466, country='Samoa ', item_type='Household', order_age=None, order_date='2016-12-05', order_priority='L', profit_per_unit=None, region='Australia and Oceania', revenue_per_unit=None, sales_channel='Online', ship_date='2016-12-08', total_cost=2842868.75, total_profit=937534.625, total_revenue=3780403.5, unit_cost=502.5400085449219, unit_price=668.27001953125, units_sold=5657)\n",
            "Row(order_id=485070693, country='Haiti', item_type='Office Supplies', order_age=None, order_date='2010-12-31', order_priority='C', profit_per_unit=None, region='Central America and the Caribbean', revenue_per_unit=None, sales_channel='Online', ship_date='2011-01-31', total_cost=1077217.875, total_profit=259065.0, total_revenue=1336282.875, unit_cost=524.9600219726562, unit_price=651.2100219726562, units_sold=2052)\n",
            "Row(order_id=757619178, country='Turkmenistan', item_type='Meat', order_age=None, order_date='2017-04-30', order_priority='M', profit_per_unit=None, region='Asia', revenue_per_unit=None, sales_channel='Online', ship_date='2017-05-14', total_cost=1898576.125, total_profit=297783.1875, total_revenue=2196359.25, unit_cost=364.69000244140625, unit_price=421.8900146484375, units_sold=5206)\n",
            "Row(order_id=882908809, country='Egypt', item_type='Clothes', order_age=None, order_date='2016-08-09', order_priority='C', profit_per_unit=None, region='Middle East and North Africa', revenue_per_unit=None, sales_channel='Online', ship_date='2016-08-24', total_cost=42721.28125, total_profit=87540.4765625, total_revenue=130261.7578125, unit_cost=35.84000015258789, unit_price=109.27999877929688, units_sold=1192)\n",
            "Row(order_id=146634709, country='Liberia', item_type='Baby Food', order_age=None, order_date='2015-06-06', order_priority='H', profit_per_unit=None, region='Sub-Saharan Africa', revenue_per_unit=None, sales_channel='Offline', ship_date='2015-06-12', total_cost=211072.078125, total_profit=126918.640625, total_revenue=337990.71875, unit_cost=159.4199981689453, unit_price=255.27999877929688, units_sold=1324)\n",
            "Row(order_id=363086831, country='Mali', item_type='Household', order_age=None, order_date='2010-08-19', order_priority='M', profit_per_unit=None, region='Sub-Saharan Africa', revenue_per_unit=None, sales_channel='Offline', ship_date='2010-09-07', total_cost=2169465.25, total_profit=715456.4375, total_revenue=2884921.5, unit_cost=502.5400085449219, unit_price=668.27001953125, units_sold=4317)\n",
            "Row(order_id=179137074, country='Nepal', item_type='Meat', order_age=None, order_date='2014-02-21', order_priority='H', profit_per_unit=None, region='Asia', revenue_per_unit=None, sales_channel='Online', ship_date='2014-03-14', total_cost=3463096.25, total_profit=543171.1875, total_revenue=4006267.5, unit_cost=364.69000244140625, unit_price=421.8900146484375, units_sold=9496)\n",
            "Row(order_id=529276502, country='Burundi', item_type='Beverages', order_age=None, order_date='2011-03-09', order_priority='H', profit_per_unit=None, region='Sub-Saharan Africa', revenue_per_unit=None, sales_channel='Online', ship_date='2011-04-09', total_cost=112314.0703125, total_profit=55326.78125, total_revenue=167640.84375, unit_cost=31.790000915527344, unit_price=47.45000076293945, units_sold=3533)\n",
            "Row(order_id=297876536, country='South Korea', item_type='Meat', order_age=None, order_date='2016-03-16', order_priority='L', profit_per_unit=None, region='Asia', revenue_per_unit=None, sales_channel='Offline', ship_date='2016-04-20', total_cost=2604251.25, total_profit=408465.1875, total_revenue=3012716.5, unit_cost=364.69000244140625, unit_price=421.8900146484375, units_sold=7141)\n",
            "Row(order_id=459386289, country='Kuwait', item_type='Household', order_age=None, order_date='2011-06-13', order_priority='C', profit_per_unit=None, region='Middle East and North Africa', revenue_per_unit=None, sales_channel='Offline', ship_date='2011-07-21', total_cost=736723.625, total_profit=242960.1875, total_revenue=979683.8125, unit_cost=502.5400085449219, unit_price=668.27001953125, units_sold=1466)\n",
            "Row(order_id=887124383, country='Greece', item_type='Cereal', order_age=None, order_date='2015-08-22', order_priority='H', profit_per_unit=None, region='Europe', revenue_per_unit=None, sales_channel='Online', ship_date='2015-10-08', total_cost=1015812.125, total_profit=768429.6875, total_revenue=1784241.75, unit_cost=117.11000061035156, unit_price=205.6999969482422, units_sold=8674)\n",
            "Row(order_id=824714744, country='Dominican Republic', item_type='Baby Food', order_age=None, order_date='2011-08-25', order_priority='H', profit_per_unit=None, region='Central America and the Caribbean', revenue_per_unit=None, sales_channel='Offline', ship_date='2011-09-24', total_cost=43681.078125, total_profit=26265.640625, total_revenue=69946.71875, unit_cost=159.4199981689453, unit_price=255.27999877929688, units_sold=274)\n",
            "Row(order_id=842238795, country='Uganda', item_type='Cosmetics', order_age=None, order_date='2015-02-28', order_priority='M', profit_per_unit=None, region='Sub-Saharan Africa', revenue_per_unit=None, sales_channel='Online', ship_date='2015-03-15', total_cost=1588143.25, total_profit=1048610.0, total_revenue=2636753.25, unit_cost=263.3299865722656, unit_price=437.20001220703125, units_sold=6031)\n",
            "Row(order_id=797385394, country='Italy', item_type='Office Supplies', order_age=None, order_date='2011-03-29', order_priority='H', profit_per_unit=None, region='Europe', revenue_per_unit=None, sales_channel='Online', ship_date='2011-04-11', total_cost=1529208.5, total_profit=367766.25, total_revenue=1896974.75, unit_cost=524.9600219726562, unit_price=651.2100219726562, units_sold=2913)\n",
            "Row(order_id=153842341, country='Brunei', item_type='Cereal', order_age=None, order_date='2013-05-28', order_priority='L', profit_per_unit=None, region='Asia', revenue_per_unit=None, sales_channel='Offline', ship_date='2013-07-16', total_cost=494438.40625, total_profit=374026.96875, total_revenue=868465.375, unit_cost=117.11000061035156, unit_price=205.6999969482422, units_sold=4222)\n",
            "Row(order_id=659878194, country='Tanzania', item_type='Beverages', order_age=None, order_date='2016-11-30', order_priority='L', profit_per_unit=None, region='Sub-Saharan Africa', revenue_per_unit=None, sales_channel='Online', ship_date='2017-01-16', total_cost=46922.0390625, total_profit=23114.16015625, total_revenue=70036.203125, unit_cost=31.790000915527344, unit_price=47.45000076293945, units_sold=1476)\n",
            "Row(order_id=314505374, country='Vietnam', item_type='Personal Care', order_age=None, order_date='2010-04-04', order_priority='M', profit_per_unit=None, region='Asia', revenue_per_unit=None, sales_channel='Online', ship_date='2010-05-06', total_cost=452453.28125, total_profit=200079.046875, total_revenue=652532.3125, unit_cost=56.66999816894531, unit_price=81.7300033569336, units_sold=7984)\n",
            "Row(order_id=791778934, country='Ghana', item_type='Clothes', order_age=None, order_date='2011-11-02', order_priority='M', profit_per_unit=None, region='Sub-Saharan Africa', revenue_per_unit=None, sales_channel='Online', ship_date='2011-12-01', total_cost=137482.234375, total_profit=281715.84375, total_revenue=419198.09375, unit_cost=35.84000015258789, unit_price=109.27999877929688, units_sold=3836)\n",
            "Row(order_id=747796285, country='Japan', item_type='Household', order_age=None, order_date='2014-07-16', order_priority='M', profit_per_unit=None, region='Asia', revenue_per_unit=None, sales_channel='Offline', ship_date='2014-07-24', total_cost=4217818.0, total_profit=1390971.875, total_revenue=5608790.0, unit_cost=502.5400085449219, unit_price=668.27001953125, units_sold=8393)\n",
            "Row(order_id=667593514, country='Morocco', item_type='Clothes', order_age=None, order_date='2013-09-14', order_priority='M', profit_per_unit=None, region='Middle East and North Africa', revenue_per_unit=None, sales_channel='Online', ship_date='2013-10-19', total_cost=165258.234375, total_profit=338631.84375, total_revenue=503890.09375, unit_cost=35.84000015258789, unit_price=109.27999877929688, units_sold=4611)\n",
            "Row(order_id=887409770, country='Italy', item_type='Cereal', order_age=None, order_date='2015-11-30', order_priority='C', profit_per_unit=None, region='Europe', revenue_per_unit=None, sales_channel='Online', ship_date='2015-12-05', total_cost=366085.875, total_profit=276932.34375, total_revenue=643018.1875, unit_cost=117.11000061035156, unit_price=205.6999969482422, units_sold=3126)\n",
            "Row(order_id=940995585, country='Papua New Guinea', item_type='Meat', order_age=None, order_date='2015-05-15', order_priority='M', profit_per_unit=None, region='Australia and Oceania', revenue_per_unit=None, sales_channel='Offline', ship_date='2015-06-04', total_cost=131288.40625, total_profit=20592.0, total_revenue=151880.40625, unit_cost=364.69000244140625, unit_price=421.8900146484375, units_sold=360)\n",
            "Row(order_id=358570849, country='Oman', item_type='Cosmetics', order_age=None, order_date='2010-11-29', order_priority='H', profit_per_unit=None, region='Middle East and North Africa', revenue_per_unit=None, sales_channel='Online', ship_date='2010-12-28', total_cost=2090050.25, total_profit=1380006.25, total_revenue=3470056.5, unit_cost=263.3299865722656, unit_price=437.20001220703125, units_sold=7937)\n",
            "Row(order_id=678230941, country='Iceland', item_type='Baby Food', order_age=None, order_date='2010-10-02', order_priority='M', profit_per_unit=None, region='Europe', revenue_per_unit=None, sales_channel='Offline', ship_date='2010-11-03', total_cost=392492.03125, total_profit=236007.3125, total_revenue=628499.375, unit_cost=159.4199981689453, unit_price=255.27999877929688, units_sold=2462)\n",
            "Row(order_id=180908620, country='Moldova ', item_type='Fruits', order_age=None, order_date='2013-01-27', order_priority='C', profit_per_unit=None, region='Europe', revenue_per_unit=None, sales_channel='Online', ship_date='2013-03-03', total_cost=25853.119140625, total_profit=9003.759765625, total_revenue=34856.87890625, unit_cost=6.920000076293945, unit_price=9.329999923706055, units_sold=3736)\n",
            "Row(order_id=265081918, country='Sweden', item_type='Beverages', order_age=None, order_date='2012-09-13', order_priority='H', profit_per_unit=None, region='Europe', revenue_per_unit=None, sales_channel='Online', ship_date='2012-10-12', total_cost=78998.1484375, total_profit=38915.1015625, total_revenue=117913.25, unit_cost=31.790000915527344, unit_price=47.45000076293945, units_sold=2485)\n",
            "Row(order_id=315402734, country='Belize', item_type='Personal Care', order_age=None, order_date='2015-06-14', order_priority='H', profit_per_unit=None, region='Central America and the Caribbean', revenue_per_unit=None, sales_channel='Online', ship_date='2015-08-02', total_cost=200215.109375, total_profit=88536.9765625, total_revenue=288752.09375, unit_cost=56.66999816894531, unit_price=81.7300033569336, units_sold=3533)\n",
            "Row(order_id=156530129, country='Tanzania', item_type='Fruits', order_age=None, order_date='2014-10-20', order_priority='H', profit_per_unit=None, region='Sub-Saharan Africa', revenue_per_unit=None, sales_channel='Offline', ship_date='2014-11-29', total_cost=66425.078125, total_profit=23133.58984375, total_revenue=89558.671875, unit_cost=6.920000076293945, unit_price=9.329999923706055, units_sold=9599)\n",
            "Row(order_id=647164094, country='Papua New Guinea', item_type='Clothes', order_age=None, order_date='2011-06-20', order_priority='L', profit_per_unit=None, region='Australia and Oceania', revenue_per_unit=None, sales_channel='Offline', ship_date='2011-07-14', total_cost=325857.28125, total_profit=667716.5, total_revenue=993573.75, unit_cost=35.84000015258789, unit_price=109.27999877929688, units_sold=9092)\n",
            "Row(order_id=286891067, country='Antigua and Barbuda ', item_type='Office Supplies', order_age=None, order_date='2011-10-02', order_priority='C', profit_per_unit=None, region='Central America and the Caribbean', revenue_per_unit=None, sales_channel='Offline', ship_date='2011-10-04', total_cost=3305673.0, total_profit=794996.25, total_revenue=4100669.25, unit_cost=524.9600219726562, unit_price=651.2100219726562, units_sold=6297)\n",
            "Row(order_id=633134210, country='Romania', item_type='Cereal', order_age=None, order_date='2015-04-16', order_priority='M', profit_per_unit=None, region='Europe', revenue_per_unit=None, sales_channel='Online', ship_date='2015-04-18', total_cost=859236.0625, total_profit=649984.8125, total_revenue=1509220.875, unit_cost=117.11000061035156, unit_price=205.6999969482422, units_sold=7337)\n",
            "Row(order_id=548299157, country='Sao Tome and Principe', item_type='Clothes', order_age=None, order_date='2015-11-11', order_priority='L', profit_per_unit=None, region='Sub-Saharan Africa', revenue_per_unit=None, sales_channel='Offline', ship_date='2015-12-28', total_cost=98918.3984375, total_profit=202694.40625, total_revenue=301612.8125, unit_cost=35.84000015258789, unit_price=109.27999877929688, units_sold=2760)\n",
            "Row(order_id=761723172, country='Algeria', item_type='Cosmetics', order_age=None, order_date='2011-02-18', order_priority='M', profit_per_unit=None, region='Middle East and North Africa', revenue_per_unit=None, sales_channel='Online', ship_date='2011-02-24', total_cost=2546137.75, total_profit=1681149.0, total_revenue=4227287.0, unit_cost=263.3299865722656, unit_price=437.20001220703125, units_sold=9669)\n",
            "Row(order_id=699160754, country='Rwanda', item_type='Fruits', order_age=None, order_date='2012-09-05', order_priority='L', profit_per_unit=None, region='Sub-Saharan Africa', revenue_per_unit=None, sales_channel='Online', ship_date='2012-09-15', total_cost=41928.28125, total_profit=14602.1904296875, total_revenue=56530.46875, unit_cost=6.920000076293945, unit_price=9.329999923706055, units_sold=6059)\n",
            "Row(order_id=174590194, country='Slovakia', item_type='Beverages', order_age=None, order_date='2016-10-26', order_priority='L', profit_per_unit=None, region='Europe', revenue_per_unit=None, sales_channel='Offline', ship_date='2016-12-04', total_cost=126301.671875, total_profit=62217.1796875, total_revenue=188518.84375, unit_cost=31.790000915527344, unit_price=47.45000076293945, units_sold=3973)\n",
            "Row(order_id=440306556, country='India', item_type='Snacks', order_age=None, order_date='2012-10-10', order_priority='L', profit_per_unit=None, region='Asia', revenue_per_unit=None, sales_channel='Online', ship_date='2012-11-20', total_cost=521206.5625, total_profit=294943.875, total_revenue=816150.4375, unit_cost=97.44000244140625, unit_price=152.5800018310547, units_sold=5349)\n",
            "Row(order_id=571997869, country='Vanuatu', item_type='Fruits', order_age=None, order_date='2013-11-03', order_priority='C', profit_per_unit=None, region='Australia and Oceania', revenue_per_unit=None, sales_channel='Online', ship_date='2013-11-11', total_cost=39686.19921875, total_profit=13821.349609375, total_revenue=53507.55078125, unit_cost=6.920000076293945, unit_price=9.329999923706055, units_sold=5735)\n",
            "Row(order_id=101328551, country='Solomon Islands', item_type='Household', order_age=None, order_date='2010-12-17', order_priority='M', profit_per_unit=None, region='Australia and Oceania', revenue_per_unit=None, sales_channel='Online', ship_date='2010-12-28', total_cost=2123231.5, total_profit=700209.25, total_revenue=2823440.75, unit_cost=502.5400085449219, unit_price=668.27001953125, units_sold=4225)\n",
            "Row(order_id=757257401, country='Finland', item_type='Household', order_age=None, order_date='2016-01-15', order_priority='H', profit_per_unit=None, region='Europe', revenue_per_unit=None, sales_channel='Offline', ship_date='2016-01-31', total_cost=4094696.0, total_profit=1350368.0, total_revenue=5445064.0, unit_cost=502.5400085449219, unit_price=668.27001953125, units_sold=8148)\n",
            "Row(order_id=438011872, country='Dominica', item_type='Beverages', order_age=None, order_date='2012-06-12', order_priority='L', profit_per_unit=None, region='Central America and the Caribbean', revenue_per_unit=None, sales_channel='Online', ship_date='2012-07-18', total_cost=200308.796875, total_profit=98673.65625, total_revenue=298982.4375, unit_cost=31.790000915527344, unit_price=47.45000076293945, units_sold=6301)\n",
            "Row(order_id=732588374, country='Taiwan', item_type='Fruits', order_age=None, order_date='2014-02-09', order_priority='M', profit_per_unit=None, region='Asia', revenue_per_unit=None, sales_channel='Offline', ship_date='2014-02-23', total_cost=55595.28125, total_profit=19361.939453125, total_revenue=74957.21875, unit_cost=6.920000076293945, unit_price=9.329999923706055, units_sold=8034)\n",
            "Row(order_id=726137769, country='Czech Republic', item_type='Cosmetics', order_age=None, order_date='2014-03-22', order_priority='H', profit_per_unit=None, region='Europe', revenue_per_unit=None, sales_channel='Online', ship_date='2014-04-26', total_cost=2411312.75, total_profit=1592127.625, total_revenue=4003440.5, unit_cost=263.3299865722656, unit_price=437.20001220703125, units_sold=9157)\n",
            "Row(order_id=467399013, country='Monaco', item_type='Beverages', order_age=None, order_date='2016-05-29', order_priority='M', profit_per_unit=None, region='Europe', revenue_per_unit=None, sales_channel='Offline', ship_date='2016-06-14', total_cost=82940.109375, total_profit=40856.94140625, total_revenue=123797.046875, unit_cost=31.790000915527344, unit_price=47.45000076293945, units_sold=2609)\n",
            "Row(order_id=176461303, country='Singapore', item_type='Snacks', order_age=None, order_date='2013-01-28', order_priority='C', profit_per_unit=None, region='Asia', revenue_per_unit=None, sales_channel='Online', ship_date='2013-02-07', total_cost=747949.4375, total_profit=423254.625, total_revenue=1171204.125, unit_cost=97.44000244140625, unit_price=152.5800018310547, units_sold=7676)\n",
            "Row(order_id=450544869, country='Malawi', item_type='Meat', order_age=None, order_date='2016-03-01', order_priority='H', profit_per_unit=None, region='Sub-Saharan Africa', revenue_per_unit=None, sales_channel='Offline', ship_date='2016-03-12', total_cost=1857730.875, total_profit=291376.8125, total_revenue=2149107.75, unit_cost=364.69000244140625, unit_price=421.8900146484375, units_sold=5094)\n",
            "Row(order_id=902511680, country='Montenegro', item_type='Clothes', order_age=None, order_date='2016-09-04', order_priority='M', profit_per_unit=None, region='Europe', revenue_per_unit=None, sales_channel='Offline', ship_date='2016-09-08', total_cost=75873.28125, total_profit=155472.484375, total_revenue=231345.765625, unit_cost=35.84000015258789, unit_price=109.27999877929688, units_sold=2117)\n",
            "Row(order_id=739008080, country='Tanzania', item_type='Cosmetics', order_age=None, order_date='2016-05-23', order_priority='L', profit_per_unit=None, region='Sub-Saharan Africa', revenue_per_unit=None, sales_channel='Offline', ship_date='2016-05-24', total_cost=2045547.5, total_profit=1350622.125, total_revenue=3396169.5, unit_cost=263.3299865722656, unit_price=437.20001220703125, units_sold=7768)\n",
            "Row(order_id=252889239, country='Thailand', item_type='Meat', order_age=None, order_date='2015-02-04', order_priority='C', profit_per_unit=None, region='Asia', revenue_per_unit=None, sales_channel='Online', ship_date='2015-02-19', total_cost=1605000.75, total_profit=251737.203125, total_revenue=1856737.875, unit_cost=364.69000244140625, unit_price=421.8900146484375, units_sold=4401)\n",
            "Row(order_id=190777862, country='United States of America', item_type='Personal Care', order_age=None, order_date='2016-01-21', order_priority='H', profit_per_unit=None, region='North America', revenue_per_unit=None, sales_channel='Online', ship_date='2016-02-19', total_cost=241640.875, total_profit=106855.84375, total_revenue=348496.71875, unit_cost=56.66999816894531, unit_price=81.7300033569336, units_sold=4264)\n",
            "Row(order_id=104191863, country='Albania', item_type='Personal Care', order_age=None, order_date='2016-02-06', order_priority='M', profit_per_unit=None, region='Europe', revenue_per_unit=None, sales_channel='Offline', ship_date='2016-02-11', total_cost=87441.8125, total_profit=38667.578125, total_revenue=126109.390625, unit_cost=56.66999816894531, unit_price=81.7300033569336, units_sold=1543)\n",
            "Row(order_id=343752610, country='Nicaragua', item_type='Baby Food', order_age=None, order_date='2016-11-11', order_priority='L', profit_per_unit=None, region='Central America and the Caribbean', revenue_per_unit=None, sales_channel='Online', ship_date='2016-11-16', total_cost=460883.21875, total_profit=277131.25, total_revenue=738014.5, unit_cost=159.4199981689453, unit_price=255.27999877929688, units_sold=2891)\n",
            "Row(order_id=955894076, country='Malaysia', item_type='Beverages', order_age=None, order_date='2014-11-13', order_priority='M', profit_per_unit=None, region='Asia', revenue_per_unit=None, sales_channel='Online', ship_date='2014-12-28', total_cost=291005.65625, total_profit=143351.640625, total_revenue=434357.3125, unit_cost=31.790000915527344, unit_price=47.45000076293945, units_sold=9154)\n",
            "Row(order_id=752525556, country='Albania', item_type='Baby Food', order_age=None, order_date='2012-07-19', order_priority='H', profit_per_unit=None, region='Europe', revenue_per_unit=None, sales_channel='Offline', ship_date='2012-08-13', total_cost=1257823.75, total_profit=756335.375, total_revenue=2014159.25, unit_cost=159.4199981689453, unit_price=255.27999877929688, units_sold=7890)\n",
            "Row(order_id=539471471, country='Uganda', item_type='Personal Care', order_age=None, order_date='2014-06-19', order_priority='M', profit_per_unit=None, region='Sub-Saharan Africa', revenue_per_unit=None, sales_channel='Online', ship_date='2014-07-21', total_cost=25558.169921875, total_profit=11302.0595703125, total_revenue=36860.23046875, unit_cost=56.66999816894531, unit_price=81.7300033569336, units_sold=451)\n",
            "Row(order_id=198927056, country='China', item_type='Office Supplies', order_age=None, order_date='2016-02-10', order_priority='M', profit_per_unit=None, region='Asia', revenue_per_unit=None, sales_channel='Online', ship_date='2016-03-29', total_cost=3040043.25, total_profit=731113.75, total_revenue=3771157.0, unit_cost=524.9600219726562, unit_price=651.2100219726562, units_sold=5791)\n",
            "Row(order_id=880811536, country='Djibouti', item_type='Clothes', order_age=None, order_date='2017-05-17', order_priority='H', profit_per_unit=None, region='Sub-Saharan Africa', revenue_per_unit=None, sales_channel='Offline', ship_date='2017-07-02', total_cost=20142.080078125, total_profit=41273.28125, total_revenue=61415.359375, unit_cost=35.84000015258789, unit_price=109.27999877929688, units_sold=562)\n",
            "Row(order_id=601245963, country='Ghana', item_type='Office Supplies', order_age=None, order_date='2017-03-23', order_priority='L', profit_per_unit=None, region='Sub-Saharan Africa', revenue_per_unit=None, sales_channel='Online', ship_date='2017-04-15', total_cost=470364.15625, total_profit=113120.0, total_revenue=583484.1875, unit_cost=524.9600219726562, unit_price=651.2100219726562, units_sold=896)\n",
            "Row(order_id=494570004, country='Madagascar', item_type='Clothes', order_age=None, order_date='2016-10-17', order_priority='L', profit_per_unit=None, region='Sub-Saharan Africa', revenue_per_unit=None, sales_channel='Online', ship_date='2016-10-26', total_cost=111462.3984375, total_profit=228398.40625, total_revenue=339860.8125, unit_cost=35.84000015258789, unit_price=109.27999877929688, units_sold=3110)\n",
            "Row(order_id=135178029, country='United Kingdom', item_type='Cosmetics', order_age=None, order_date='2015-05-01', order_priority='L', profit_per_unit=None, region='Europe', revenue_per_unit=None, sales_channel='Online', ship_date='2015-05-16', total_cost=273336.53125, total_profit=180477.0625, total_revenue=453813.59375, unit_cost=263.3299865722656, unit_price=437.20001220703125, units_sold=1038)\n"
          ]
        }
      ]
    },
    {
      "cell_type": "code",
      "source": [
        "#Total_profit, Total_sales,Total_units_sold by country and Item_type\n",
        "from cassandra.cluster import Cluster\n",
        "from datetime import datetime\n",
        "\n",
        "create_gold_table_query = \"\"\"\n",
        "CREATE TABLE IF NOT EXISTS sales.gold_table (\n",
        "    country TEXT,\n",
        "    item_type TEXT,\n",
        "    total_sales TEXT,\n",
        "    total_profit TEXT,\n",
        "    average_profit_margin TEXT,\n",
        "    total_units_sold TEXT,\n",
        "    PRIMARY KEY (country, item_type)\n",
        ");\n",
        "\"\"\"\n",
        "session.execute(create_gold_table_query)\n",
        "\n",
        "select_query = \"\"\"\n",
        "SELECT country, item_type, total_revenue, total_profit, units_sold\n",
        "FROM sales.sales_data;\n",
        "\"\"\"\n",
        "\n",
        "rows = session.execute(select_query)\n",
        "\n",
        "insert_query = \"\"\"\n",
        "INSERT INTO sales.gold_table (country, item_type, total_sales, total_profit, average_profit_margin, total_units_sold)\n",
        "VALUES (%s, %s, %s, %s, %s, %s)\n",
        "\"\"\"\n",
        "\n",
        "aggregated_data = {}\n",
        "\n",
        "for row in rows:\n",
        "    key = (row.country, row.item_type)\n",
        "    if key not in aggregated_data:\n",
        "        aggregated_data[key] = {\n",
        "            'total_revenue': 0,\n",
        "            'total_profit': 0,\n",
        "            'total_units_sold': 0\n",
        "        }\n",
        "\n",
        "    aggregated_data[key]['total_revenue'] += row.total_revenue\n",
        "    aggregated_data[key]['total_profit'] += row.total_profit\n",
        "    aggregated_data[key]['total_units_sold'] += row.units_sold\n",
        "\n",
        "for key, values in aggregated_data.items():\n",
        "    country, item_type = key\n",
        "    total_revenue = str(values['total_revenue'])\n",
        "    total_profit = str(values['total_profit'])\n",
        "    total_units_sold = str(values['total_units_sold'])\n",
        "    average_profit_margin = str(values['total_profit'] / values['total_revenue']) if values['total_revenue'] != 0 else '0'\n",
        "\n",
        "    session.execute(insert_query, (\n",
        "        str(country), str(item_type), total_revenue, total_profit, average_profit_margin, total_units_sold\n",
        "    ))\n",
        "\n",
        "print(\"Gold table populated successfully!\")\n"
      ],
      "metadata": {
        "colab": {
          "base_uri": "https://localhost:8080/",
          "height": 0
        },
        "id": "JsQdeOdRnqOQ",
        "outputId": "eef37a87-0d30-4766-bd82-9baa0c02b6f3"
      },
      "execution_count": 65,
      "outputs": [
        {
          "output_type": "stream",
          "name": "stdout",
          "text": [
            "Gold table populated successfully!\n"
          ]
        }
      ]
    },
    {
      "cell_type": "code",
      "source": [
        "query = \"SELECT * FROM sales.gold_table ;\"\n",
        "rows = session.execute(query)\n",
        "\n",
        "for row in rows:\n",
        "    print(row)"
      ],
      "metadata": {
        "colab": {
          "base_uri": "https://localhost:8080/",
          "height": 0
        },
        "id": "FCPdtZljqm8O",
        "outputId": "a16ba0d2-feaf-4f45-cb1d-4ae67099689b"
      },
      "execution_count": 66,
      "outputs": [
        {
          "output_type": "stream",
          "name": "stdout",
          "text": [
            "Row(country='Malaysia', item_type='Beverages', average_profit_margin='0.33003160416460126', total_profit='143351.640625', total_sales='434357.3125', total_units_sold='9154')\n",
            "Row(country='Israel', item_type='Beverages', average_profit_margin='0.33003160565054235', total_profit='73742.9375', total_sales='223442.046875', total_units_sold='4709')\n",
            "Row(country='Serbia', item_type='Clothes', average_profit_margin='0.6720351474112635', total_profit='539637.125', total_sales='802989.4375', total_units_sold='7348')\n",
            "Row(country='Djibouti', item_type='Clothes', average_profit_margin='0.6720351662844927', total_profit='41273.28125', total_sales='61415.359375', total_units_sold='562')\n",
            "Row(country='Egypt', item_type='Clothes', average_profit_margin='0.6720351239886274', total_profit='87540.4765625', total_sales='130261.7578125', total_units_sold='1192')\n",
            "Row(country='Nicaragua', item_type='Baby Food', average_profit_margin='0.3755092210247902', total_profit='277131.25', total_sales='738014.5', total_units_sold='2891')\n",
            "Row(country='Nicaragua', item_type='Household', average_profit_margin='0.24799855622543512', total_profit='1291202.375', total_sales='5206491.5', total_units_sold='7791')\n",
            "Row(country='Romania', item_type='Beverages', average_profit_margin='0.33003161179164325', total_profit='71738.4609375', total_sales='217368.453125', total_units_sold='4581')\n",
            "Row(country='Romania', item_type='Cereal', average_profit_margin='0.4306757369096157', total_profit='649984.8125', total_sales='1509220.875', total_units_sold='7337')\n",
            "Row(country='Sao Tome and Principe', item_type='Clothes', average_profit_margin='0.6720351319624395', total_profit='202694.40625', total_sales='301612.8125', total_units_sold='2760')\n",
            "Row(country='Liberia', item_type='Baby Food', average_profit_margin='0.37550924798878077', total_profit='126918.640625', total_sales='337990.71875', total_units_sold='1324')\n",
            "Row(country='Vanuatu', item_type='Cereal', average_profit_margin='0.43067571545593625', total_profit='503279.78125', total_sales='1168581.75', total_units_sold='5681')\n",
            "Row(country='Vanuatu', item_type='Fruits', average_profit_margin='0.2583065269774644', total_profit='13821.349609375', total_sales='53507.55078125', total_units_sold='5735')\n",
            "Row(country='Morocco', item_type='Clothes', average_profit_margin='0.6720351281960482', total_profit='338631.84375', total_sales='503890.09375', total_units_sold='4611')\n",
            "Row(country='Lebanon', item_type='Meat', average_profit_margin='0.13558036638218052', total_profit='501644.0', total_sales='3699975.25', total_units_sold='8770')\n",
            "Row(country='Madagascar', item_type='Clothes', average_profit_margin='0.6720351327648285', total_profit='228398.40625', total_sales='339860.8125', total_units_sold='3110')\n",
            "Row(country='Mali', item_type='Household', average_profit_margin='0.2479985807239469', total_profit='715456.4375', total_sales='2884921.5', total_units_sold='4317')\n",
            "Row(country='Togo', item_type='Cosmetics', average_profit_margin='0.3976898492789717', total_profit='835619.25', total_sales='2101183.25', total_units_sold='4806')\n",
            "Row(country='Sri Lanka', item_type='Fruits', average_profit_margin='0.2583065234261384', total_profit='3323.389892578125', total_sales='12866.0703125', total_units_sold='1379')\n",
            "Row(country='Canada', item_type='Cosmetics', average_profit_margin='0.39768983370391103', total_profit='1297765.625', total_sales='3263260.75', total_units_sold='7464')\n",
            "Row(country='Vietnam', item_type='Personal Care', average_profit_margin='0.3066193704775348', total_profit='200079.046875', total_sales='652532.3125', total_units_sold='7984')\n",
            "Row(country='Mauritius ', item_type='Clothes', average_profit_margin='0.6720351319624395', total_profit='405388.8125', total_sales='603225.625', total_units_sold='5520')\n",
            "Row(country='Tanzania', item_type='Beverages', average_profit_margin='0.33003159972844404', total_profit='23114.16015625', total_sales='70036.203125', total_units_sold='1476')\n",
            "Row(country='Tanzania', item_type='Cosmetics', average_profit_margin='0.39768984586900036', total_profit='1350622.125', total_sales='3396169.5', total_units_sold='7768')\n",
            "Row(country='Tanzania', item_type='Fruits', average_profit_margin='0.25830653089673233', total_profit='23133.58984375', total_sales='89558.671875', total_units_sold='9599')\n",
            "Row(country='Tunisia ', item_type='Cosmetics', average_profit_margin='0.39768984446477584', total_profit='425981.5', total_sales='1071140.0', total_units_sold='2450')\n",
            "Row(country='Brunei', item_type='Cereal', average_profit_margin='0.4306757408146525', total_profit='374026.96875', total_sales='868465.375', total_units_sold='4222')\n",
            "Row(country='Seychelles ', item_type='Beverages', average_profit_margin='0.33003159112497543', total_profit='9349.01953125', total_sales='28327.650390625', total_units_sold='597')\n",
            "Row(country='Ghana', item_type='Clothes', average_profit_margin='0.672035125994654', total_profit='281715.84375', total_sales='419198.09375', total_units_sold='3836')\n",
            "Row(country='Ghana', item_type='Fruits', average_profit_margin='0.2583065357810022', total_profit='3188.429931640625', total_sales='12343.58984375', total_units_sold='1323')\n",
            "Row(country='Ghana', item_type='Office Supplies', average_profit_margin='0.1938698638684189', total_profit='113120.0', total_sales='583484.1875', total_units_sold='896')\n",
            "Row(country='Turkmenistan', item_type='Meat', average_profit_margin='0.1355803644144281', total_profit='297783.1875', total_sales='2196359.25', total_units_sold='5206')\n",
            "Row(country='Turkmenistan', item_type='Vegetables', average_profit_margin='0.4097754110795368', total_profit='421077.09375', total_sales='1027580.1875', total_units_sold='6670')\n",
            "Row(country='Belgium', item_type='Personal Care', average_profit_margin='0.30661935336839286', total_profit='70844.6171875', total_sales='231050.703125', total_units_sold='2827')\n",
            "Row(country='Iceland', item_type='Baby Food', average_profit_margin='0.3755092238556323', total_profit='236007.3125', total_sales='628499.375', total_units_sold='2462')\n",
            "Row(country='Sweden', item_type='Beverages', average_profit_margin='0.3300316254746604', total_profit='38915.1015625', total_sales='117913.25', total_units_sold='2485')\n",
            "Row(country='Dominican Republic', item_type='Baby Food', average_profit_margin='0.37550926039686455', total_profit='26265.640625', total_sales='69946.71875', total_units_sold='274')\n",
            "Row(country='United Kingdom', item_type='Cosmetics', average_profit_margin='0.39768985545069957', total_profit='180477.0625', total_sales='453813.59375', total_units_sold='1038')\n",
            "Row(country='United States of America', item_type='Personal Care', average_profit_margin='0.30661936827776803', total_profit='106855.84375', total_sales='348496.71875', total_units_sold='4264')\n",
            "Row(country='China', item_type='Office Supplies', average_profit_margin='0.19386987866058084', total_profit='731113.75', total_sales='3771157.0', total_units_sold='5791')\n",
            "Row(country='Greece', item_type='Cereal', average_profit_margin='0.43067576885251113', total_profit='768429.6875', total_sales='1784241.75', total_units_sold='8674')\n",
            "Row(country='Democratic Republic of the Congo', item_type='Cosmetics', average_profit_margin='0.3976898453838874', total_profit='515872.28125', total_sales='1297172.375', total_units_sold='2967')\n",
            "Row(country='Switzerland', item_type='Office Supplies', average_profit_margin='0.19386986983797674', total_profit='711923.75', total_sales='3672173.25', total_units_sold='5639')\n",
            "Row(country='South Africa', item_type='Fruits', average_profit_margin='0.2583065226968615', total_profit='3839.1298828125', total_sales='14862.6904296875', total_units_sold='1593')\n",
            "Row(country='Kazakhstan', item_type='Snacks', average_profit_margin='0.3613842045282229', total_profit='74549.28125', total_sales='206288.15625', total_units_sold='1352')\n",
            "Row(country='Papua New Guinea', item_type='Clothes', average_profit_margin='0.6720351659854138', total_profit='667716.5', total_sales='993573.75', total_units_sold='9092')\n",
            "Row(country='Papua New Guinea', item_type='Meat', average_profit_margin='0.13558035897076093', total_profit='20592.0', total_sales='151880.40625', total_units_sold='360')\n",
            "Row(country='India', item_type='Snacks', average_profit_margin='0.36138420252945097', total_profit='294943.875', total_sales='816150.4375', total_units_sold='5349')\n",
            "Row(country='Thailand', item_type='Fruits', average_profit_margin='0.25830653446008867', total_profit='3747.550048828125', total_sales='14508.150390625', total_units_sold='1555')\n",
            "Row(country='Thailand', item_type='Meat', average_profit_margin='0.13558036732837153', total_profit='251737.203125', total_sales='1856737.875', total_units_sold='4401')\n",
            "Row(country='Haiti', item_type='Office Supplies', average_profit_margin='0.19386987953430146', total_profit='259065.0', total_sales='1336282.875', total_units_sold='2052')\n",
            "Row(country='Estonia', item_type='Household', average_profit_margin='0.24799856719888957', total_profit='1653322.5', total_sales='6666661.5', total_units_sold='9976')\n",
            "Row(country='Kuwait', item_type='Household', average_profit_margin='0.24799857300898293', total_profit='242960.1875', total_sales='979683.8125', total_units_sold='1466')\n",
            "Row(country='Czech Republic', item_type='Cosmetics', average_profit_margin='0.39768984327355433', total_profit='1592127.625', total_sales='4003440.5', total_units_sold='9157')\n",
            "Row(country='Dominica', item_type='Beverages', average_profit_margin='0.330031613478969', total_profit='98673.65625', total_sales='298982.4375', total_units_sold='6301')\n",
            "Row(country='Dominica', item_type='Household', average_profit_margin='0.24799855819500546', total_profit='1167402.125', total_sales='4707294.0', total_units_sold='7044')\n",
            "Row(country='Nepal', item_type='Meat', average_profit_margin='0.1355803593993661', total_profit='543171.1875', total_sales='4006267.5', total_units_sold='9496')\n",
            "Row(country='Taiwan', item_type='Cereal', average_profit_margin='0.4306757572878889', total_profit='832480.25', total_sales='1932962.875', total_units_sold='9397')\n",
            "Row(country='Taiwan', item_type='Fruits', average_profit_margin='0.25830653506104106', total_profit='19361.939453125', total_sales='74957.21875', total_units_sold='8034')\n",
            "Row(country='Antigua and Barbuda ', item_type='Office Supplies', average_profit_margin='0.19386987867894978', total_profit='794996.25', total_sales='4100669.25', total_units_sold='6297')\n",
            "Row(country='Algeria', item_type='Cosmetics', average_profit_margin='0.3976898185526556', total_profit='1681149.0', total_sales='4227287.0', total_units_sold='9669')\n",
            "Row(country='Uganda', item_type='Cosmetics', average_profit_margin='0.39768984830112564', total_profit='1048610.0', total_sales='2636753.25', total_units_sold='6031')\n",
            "Row(country='Uganda', item_type='Personal Care', average_profit_margin='0.3066193408609953', total_profit='11302.0595703125', total_sales='36860.23046875', total_units_sold='451')\n",
            "Row(country='France', item_type='Cosmetics', average_profit_margin='0.39768985132463186', total_profit='1001143.4375', total_sales='2517397.5', total_units_sold='5758')\n",
            "Row(country='Finland', item_type='Household', average_profit_margin='0.2479985542869652', total_profit='1350368.0', total_sales='5445064.0', total_units_sold='8148')\n",
            "Row(country='Finland', item_type='Vegetables', average_profit_margin='0.40977538547624925', total_profit='44064.73828125', total_sales='107533.8828125', total_units_sold='698')\n",
            "Row(country='Monaco', item_type='Beverages', average_profit_margin='0.33003163191367524', total_profit='40856.94140625', total_sales='123797.046875', total_units_sold='2609')\n",
            "Row(country='Indonesia', item_type='Household', average_profit_margin='0.24799855599093001', total_profit='103249.7890625', total_sales='416332.21875', total_units_sold='623')\n",
            "Row(country='Indonesia', item_type='Personal Care', average_profit_margin='0.30661935761142617', total_profit='233208.359375', total_sales='760579.375', total_units_sold='9306')\n",
            "Row(country='Netherlands', item_type='Fruits', average_profit_margin='0.258306534577192', total_profit='23827.669921875', total_sales='92245.7109375', total_units_sold='9887')\n",
            "Row(country='Burundi', item_type='Beverages', average_profit_margin='0.3300316319840761', total_profit='55326.78125', total_sales='167640.84375', total_units_sold='3533')\n",
            "Row(country='South Korea', item_type='Meat', average_profit_margin='0.13558035995089482', total_profit='408465.1875', total_sales='3012716.5', total_units_sold='7141')\n",
            "Row(country='The Gambia', item_type='Fruits', average_profit_margin='0.25830653015672617', total_profit='20964.58984375', total_sales='81161.671875', total_units_sold='8699')\n",
            "Row(country='Pakistan', item_type='Meat', average_profit_margin='0.1355803646208', total_profit='570226.8125', total_sales='4205821.5', total_units_sold='9969')\n",
            "Row(country='United Arab Emirates', item_type='Office Supplies', average_profit_margin='0.1938698770358273', total_profit='1212378.75', total_sales='6253569.5', total_units_sold='9603')\n",
            "Row(country='Saint Lucia', item_type='Fruits', average_profit_margin='0.25830653325612196', total_profit='8630.2099609375', total_sales='33410.73046875', total_units_sold='3581')\n",
            "Row(country='Samoa ', item_type='Household', average_profit_margin='0.2479985602066023', total_profit='937534.625', total_sales='3780403.5', total_units_sold='5657')\n",
            "Row(country='Rwanda', item_type='Fruits', average_profit_margin='0.2583065513619591', total_profit='14602.1904296875', total_sales='56530.46875', total_units_sold='6059')\n",
            "Row(country='Tonga', item_type='Baby Food', average_profit_margin='0.3755092788546791', total_profit='530201.6875', total_sales='1411953.625', total_units_sold='5531')\n",
            "Row(country='New Zealand', item_type='Beverages', average_profit_margin='0.33003161290682287', total_profit='90640.078125', total_sales='274640.59375', total_units_sold='5788')\n",
            "Row(country='Solomon Islands', item_type='Household', average_profit_margin='0.247998563454891', total_profit='700209.25', total_sales='2823440.75', total_units_sold='4225')\n",
            "Row(country='Moldova ', item_type='Fruits', average_profit_margin='0.25830653943060244', total_profit='9003.759765625', total_sales='34856.87890625', total_units_sold='3736')\n",
            "Row(country='Japan', item_type='Household', average_profit_margin='0.24799856564428335', total_profit='1390971.875', total_sales='5608790.0', total_units_sold='8393')\n",
            "Row(country='Belize', item_type='Personal Care', average_profit_margin='0.3066193405307559', total_profit='88536.9765625', total_sales='288752.09375', total_units_sold='3533')\n",
            "Row(country='Montenegro', item_type='Clothes', average_profit_margin='0.6720351416632936', total_profit='155472.484375', total_sales='231345.765625', total_units_sold='2117')\n",
            "Row(country='Slovakia', item_type='Beverages', average_profit_margin='0.33003162150733273', total_profit='62217.1796875', total_sales='188518.84375', total_units_sold='3973')\n",
            "Row(country='The Bahamas', item_type='Fruits', average_profit_margin='0.2583065514452945', total_profit='11423.400390625', total_sales='44224.19921875', total_units_sold='4740')\n",
            "Row(country='The Bahamas', item_type='Personal Care', average_profit_margin='0.30661935884954744', total_profit='228973.21875', total_sales='746767.0', total_units_sold='9137')\n",
            "Row(country='Albania', item_type='Baby Food', average_profit_margin='0.3755092230169983', total_profit='756335.375', total_sales='2014159.25', total_units_sold='7890')\n",
            "Row(country='Albania', item_type='Personal Care', average_profit_margin='0.3066193400298179', total_profit='38667.578125', total_sales='126109.390625', total_units_sold='1543')\n",
            "Row(country='Zimbabwe', item_type='Office Supplies', average_profit_margin='0.19386986774633877', total_profit='1214903.75', total_sales='6266594.0', total_units_sold='9623')\n",
            "Row(country='Ethiopia', item_type='Cosmetics', average_profit_margin='0.39768982723911356', total_profit='115101.9375', total_sales='289426.40625', total_units_sold='662')\n",
            "Row(country='Malawi', item_type='Meat', average_profit_margin='0.13558036468855506', total_profit='291376.8125', total_sales='2149107.75', total_units_sold='5094')\n",
            "Row(country='Italy', item_type='Cereal', average_profit_margin='0.4306757397673301', total_profit='904149.53125', total_sales='2099374.1875', total_units_sold='10206')\n",
            "Row(country='Italy', item_type='Office Supplies', average_profit_margin='0.19386987096164565', total_profit='367766.25', total_sales='1896974.75', total_units_sold='2913')\n",
            "Row(country='East Timor', item_type='Cereal', average_profit_margin='0.4306757453203314', total_profit='22944.810546875', total_sales='53276.30078125', total_units_sold='259')\n",
            "Row(country='Singapore', item_type='Snacks', average_profit_margin='0.36138416520689765', total_profit='423254.625', total_sales='1171204.125', total_units_sold='7676')\n",
            "Row(country='Oman', item_type='Cosmetics', average_profit_margin='0.39768985029494475', total_profit='1380006.25', total_sales='3470056.5', total_units_sold='7937')\n"
          ]
        }
      ]
    },
    {
      "cell_type": "code",
      "source": [
        "# Total_Sales by Item_type\n",
        "create_gold_table_query_2 = \"\"\"\n",
        "CREATE TABLE IF NOT EXISTS sales.gold_sales_by_item_type (\n",
        "    item_type TEXT PRIMARY KEY,\n",
        "    total_revenue DECIMAL,\n",
        "    total_profit DECIMAL,\n",
        "    average_profit_margin DECIMAL,\n",
        "    total_units_sold INT\n",
        ")\n",
        "\"\"\"\n",
        "session.execute(create_gold_table_query_2)\n",
        "\n",
        "select_query = \"\"\"\n",
        "SELECT item_type, total_revenue, total_profit, units_sold FROM sales.silver_sales_data\n",
        "\"\"\"\n",
        "\n",
        "rows = session.execute(select_query)\n",
        "\n",
        "aggregated_data = {}\n",
        "\n",
        "for row in rows:\n",
        "    item_type = row.item_type\n",
        "    total_revenue = row.total_revenue\n",
        "    total_profit = row.total_profit\n",
        "    units_sold = row.units_sold\n",
        "\n",
        "    if item_type not in aggregated_data:\n",
        "        aggregated_data[item_type] = {\n",
        "            'total_revenue': 0,\n",
        "            'total_profit': 0,\n",
        "            'total_units_sold': 0\n",
        "        }\n",
        "\n",
        "    aggregated_data[item_type]['total_revenue'] += total_revenue\n",
        "    aggregated_data[item_type]['total_profit'] += total_profit\n",
        "    aggregated_data[item_type]['total_units_sold'] += units_sold\n",
        "\n",
        "for item_type, data in aggregated_data.items():\n",
        "    total_revenue = data['total_revenue']\n",
        "    total_profit = data['total_profit']\n",
        "    total_units_sold = data['total_units_sold']\n",
        "\n",
        "    average_profit_margin = total_profit / total_revenue if total_revenue != 0 else 0\n",
        "\n",
        "    insert_query = \"\"\"\n",
        "    INSERT INTO sales.gold_sales_by_item_type (\n",
        "        item_type, total_revenue, total_profit, average_profit_margin, total_units_sold\n",
        "    )\n",
        "    VALUES (%s, %s, %s, %s, %s)\n",
        "    \"\"\"\n",
        "    session.execute(insert_query, (\n",
        "        item_type,\n",
        "        float(total_revenue),\n",
        "        float(total_profit),\n",
        "        float(average_profit_margin),\n",
        "        int(total_units_sold)\n",
        "    ))\n",
        "\n",
        "print(\"Gold table 2 (sales by item type) populated successfully!\")\n"
      ],
      "metadata": {
        "colab": {
          "base_uri": "https://localhost:8080/",
          "height": 0
        },
        "id": "7k0gaOnjxr1G",
        "outputId": "aa6d75d6-3108-4647-e49e-c11ff5a2fb3c"
      },
      "execution_count": 85,
      "outputs": [
        {
          "output_type": "stream",
          "name": "stdout",
          "text": [
            "Gold table 2 (sales by item type) populated successfully!\n"
          ]
        }
      ]
    },
    {
      "cell_type": "code",
      "source": [
        "query = \"SELECT * FROM sales.gold_sales_by_item_type ;\"\n",
        "rows = session.execute(query)\n",
        "\n",
        "for row in rows:\n",
        "    print(row)"
      ],
      "metadata": {
        "colab": {
          "base_uri": "https://localhost:8080/",
          "height": 0
        },
        "id": "ATNZG70OyTdR",
        "outputId": "42a87778-6f62-43e7-b1d6-8c3107df1d18"
      },
      "execution_count": 86,
      "outputs": [
        {
          "output_type": "stream",
          "name": "stdout",
          "text": [
            "Row(item_type='Household', average_profit_margin=Decimal('0.24799856264263057'), total_profit=Decimal('9552677.1640625'), total_revenue=Decimal('38519082.78125'), total_units_sold=57640)\n",
            "Row(item_type='Office Supplies', average_profit_margin=Decimal('0.19386987389220692'), total_profit=Decimal('5405267.5'), total_revenue=Decimal('27880904.8125'), total_units_sold=42814)\n",
            "Row(item_type='Vegetables', average_profit_margin=Decimal('0.4097754086540353'), total_profit=Decimal('465141.83203125'), total_revenue=Decimal('1135114.0703125'), total_units_sold=7368)\n",
            "Row(item_type='Snacks', average_profit_margin=Decimal('0.3613841827905915'), total_profit=Decimal('792747.78125'), total_revenue=Decimal('2193642.71875'), total_units_sold=14377)\n",
            "Row(item_type='Personal Care', average_profit_margin=Decimal('0.30661935895585124'), total_profit=Decimal('978467.7001953125'), total_revenue=Decimal('3191147.82421875'), total_units_sold=39045)\n",
            "Row(item_type='Meat', average_profit_margin=Decimal('0.13558036346429897'), total_profit=Decimal('2884996.390625'), total_revenue=Decimal('21278866.03125'), total_units_sold=50437)\n",
            "Row(item_type='Fruits', average_profit_margin=Decimal('0.2583065353157176'), total_profit=Decimal('158867.19897460938'), total_revenue=Decimal('615033.6025390625'), total_units_sold=65920)\n",
            "Row(item_type='Beverages', average_profit_margin=Decimal('0.33003161366413364'), total_profit=Decimal('707925.95703125'), total_revenue=Decimal('2145024.681640625'), total_units_sold=45206)\n",
            "Row(item_type='Cereal', average_profit_margin=Decimal('0.4306757455281105'), total_profit=Decimal('4055295.841796875'), total_revenue=Decimal('9416123.11328125'), total_units_sold=45776)\n",
            "Row(item_type='Cosmetics', average_profit_margin=Decimal('0.3976898414804783'), total_profit=Decimal('11424476.09375'), total_revenue=Decimal('28727100.625'), total_units_sold=65707)\n",
            "Row(item_type='Baby Food', average_profit_margin=Decimal('0.37550924012126713'), total_profit=Decimal('1952859.90625'), total_revenue=Decimal('5200564.1875'), total_units_sold=20372)\n",
            "Row(item_type='Clothes', average_profit_margin=Decimal('0.6720351423094536'), total_profit=Decimal('2948469.1796875'), total_revenue=Decimal('4387373.5078125'), total_units_sold=40148)\n"
          ]
        }
      ]
    },
    {
      "cell_type": "code",
      "source": [
        "#Sales by region and country\n",
        "create_gold_table_query_3 = \"\"\"\n",
        "CREATE TABLE IF NOT EXISTS sales.gold_sales_by_region_or_country (\n",
        "    region TEXT,\n",
        "    country TEXT,\n",
        "    total_revenue DECIMAL,\n",
        "    total_profit DECIMAL,\n",
        "    total_units_sold INT,\n",
        "    PRIMARY KEY (region, country)\n",
        ")\n",
        "\"\"\"\n",
        "\n",
        "session.execute(create_gold_table_query_3)\n",
        "\n",
        "select_query = \"\"\"\n",
        "SELECT region, country, total_revenue, total_profit, units_sold FROM sales.silver_sales_data\n",
        "\"\"\"\n",
        "\n",
        "rows = session.execute(select_query)\n",
        "\n",
        "aggregated_data_by_region_country = {}\n",
        "\n",
        "for row in rows:\n",
        "    region = row.region\n",
        "    country = row.country\n",
        "    total_revenue = row.total_revenue\n",
        "    total_profit = row.total_profit\n",
        "    units_sold = row.units_sold\n",
        "\n",
        "    if (region, country) not in aggregated_data_by_region_country:\n",
        "        aggregated_data_by_region_country[(region, country)] = {\n",
        "            'total_revenue': 0,\n",
        "            'total_profit': 0,\n",
        "            'total_units_sold': 0\n",
        "        }\n",
        "\n",
        "    aggregated_data_by_region_country[(region, country)]['total_revenue'] += total_revenue\n",
        "    aggregated_data_by_region_country[(region, country)]['total_profit'] += total_profit\n",
        "    aggregated_data_by_region_country[(region, country)]['total_units_sold'] += units_sold\n",
        "\n",
        "sorted_data = sorted(\n",
        "    aggregated_data_by_region_country.items(),\n",
        "    key=lambda x: x[1]['total_profit'],\n",
        "    reverse=True\n",
        ")\n",
        "\n",
        "for (region, country), data in sorted_data:\n",
        "    total_revenue = data['total_revenue']\n",
        "    total_profit = data['total_profit']\n",
        "    total_units_sold = data['total_units_sold']\n",
        "\n",
        "    insert_query = \"\"\"\n",
        "    INSERT INTO sales.gold_sales_by_region_or_country (\n",
        "        region, country, total_revenue, total_profit, total_units_sold\n",
        "    )\n",
        "    VALUES (%s, %s, %s, %s, %s)\n",
        "    \"\"\"\n",
        "    session.execute(insert_query, (\n",
        "        region,\n",
        "        country,\n",
        "        float(total_revenue),\n",
        "        float(total_profit),\n",
        "        int(total_units_sold)\n",
        "    ))\n",
        "\n",
        "print(\"Gold table 3 (sales by region/country) populated successfully!\")\n"
      ],
      "metadata": {
        "colab": {
          "base_uri": "https://localhost:8080/",
          "height": 0
        },
        "id": "KYZenbCzyjMK",
        "outputId": "405bedbd-1b32-4a8f-a3cd-21763b343b08"
      },
      "execution_count": 87,
      "outputs": [
        {
          "output_type": "stream",
          "name": "stdout",
          "text": [
            "Gold table 3 (sales by region/country) populated successfully!\n"
          ]
        }
      ]
    },
    {
      "cell_type": "code",
      "source": [
        "query = \"SELECT * FROM sales.gold_sales_by_region_or_country ;\"\n",
        "rows = session.execute(query)\n",
        "\n",
        "for row in rows:\n",
        "    print(row)"
      ],
      "metadata": {
        "colab": {
          "base_uri": "https://localhost:8080/",
          "height": 0
        },
        "id": "QgMsdR5tzVpq",
        "outputId": "0635af5b-4a21-4632-85b9-74c22d640a56"
      },
      "execution_count": 88,
      "outputs": [
        {
          "output_type": "stream",
          "name": "stdout",
          "text": [
            "Row(region='Australia and Oceania', country='East Timor', total_profit=Decimal('22944.810546875'), total_revenue=Decimal('53276.30078125'), total_units_sold=259)\n",
            "Row(region='Australia and Oceania', country='New Zealand', total_profit=Decimal('90640.078125'), total_revenue=Decimal('274640.59375'), total_units_sold=5788)\n",
            "Row(region='Australia and Oceania', country='Papua New Guinea', total_profit=Decimal('688308.5'), total_revenue=Decimal('1145454.15625'), total_units_sold=9452)\n",
            "Row(region='Australia and Oceania', country='Samoa ', total_profit=Decimal('937534.625'), total_revenue=Decimal('3780403.5'), total_units_sold=5657)\n",
            "Row(region='Australia and Oceania', country='Solomon Islands', total_profit=Decimal('700209.25'), total_revenue=Decimal('2823440.75'), total_units_sold=4225)\n",
            "Row(region='Australia and Oceania', country='Tonga', total_profit=Decimal('530201.6875'), total_revenue=Decimal('1411953.625'), total_units_sold=5531)\n",
            "Row(region='Australia and Oceania', country='Vanuatu', total_profit=Decimal('517101.130859375'), total_revenue=Decimal('1222089.30078125'), total_units_sold=11416)\n",
            "Row(region='Europe', country='Albania', total_profit=Decimal('795002.953125'), total_revenue=Decimal('2140268.640625'), total_units_sold=9433)\n",
            "Row(region='Europe', country='Belgium', total_profit=Decimal('70844.6171875'), total_revenue=Decimal('231050.703125'), total_units_sold=2827)\n",
            "Row(region='Europe', country='Czech Republic', total_profit=Decimal('1592127.625'), total_revenue=Decimal('4003440.5'), total_units_sold=9157)\n",
            "Row(region='Europe', country='Estonia', total_profit=Decimal('1653322.5'), total_revenue=Decimal('6666661.5'), total_units_sold=9976)\n",
            "Row(region='Europe', country='Finland', total_profit=Decimal('1394432.73828125'), total_revenue=Decimal('5552597.8828125'), total_units_sold=8846)\n",
            "Row(region='Europe', country='France', total_profit=Decimal('1001143.4375'), total_revenue=Decimal('2517397.5'), total_units_sold=5758)\n",
            "Row(region='Europe', country='Greece', total_profit=Decimal('768429.6875'), total_revenue=Decimal('1784241.75'), total_units_sold=8674)\n",
            "Row(region='Europe', country='Iceland', total_profit=Decimal('236007.3125'), total_revenue=Decimal('628499.375'), total_units_sold=2462)\n",
            "Row(region='Europe', country='Italy', total_profit=Decimal('1271915.78125'), total_revenue=Decimal('3996348.9375'), total_units_sold=13119)\n",
            "Row(region='Europe', country='Moldova ', total_profit=Decimal('9003.759765625'), total_revenue=Decimal('34856.87890625'), total_units_sold=3736)\n",
            "Row(region='Europe', country='Monaco', total_profit=Decimal('40856.94140625'), total_revenue=Decimal('123797.046875'), total_units_sold=2609)\n",
            "Row(region='Europe', country='Montenegro', total_profit=Decimal('155472.484375'), total_revenue=Decimal('231345.765625'), total_units_sold=2117)\n",
            "Row(region='Europe', country='Netherlands', total_profit=Decimal('23827.669921875'), total_revenue=Decimal('92245.7109375'), total_units_sold=9887)\n",
            "Row(region='Europe', country='Romania', total_profit=Decimal('721723.2734375'), total_revenue=Decimal('1726589.328125'), total_units_sold=11918)\n",
            "Row(region='Europe', country='Serbia', total_profit=Decimal('539637.125'), total_revenue=Decimal('802989.4375'), total_units_sold=7348)\n",
            "Row(region='Europe', country='Slovakia', total_profit=Decimal('62217.1796875'), total_revenue=Decimal('188518.84375'), total_units_sold=3973)\n",
            "Row(region='Europe', country='Sweden', total_profit=Decimal('38915.1015625'), total_revenue=Decimal('117913.25'), total_units_sold=2485)\n",
            "Row(region='Europe', country='Switzerland', total_profit=Decimal('711923.75'), total_revenue=Decimal('3672173.25'), total_units_sold=5639)\n",
            "Row(region='Europe', country='United Kingdom', total_profit=Decimal('180477.0625'), total_revenue=Decimal('453813.59375'), total_units_sold=1038)\n",
            "Row(region='Middle East and North Africa', country='Algeria', total_profit=Decimal('1681149.0'), total_revenue=Decimal('4227287.0'), total_units_sold=9669)\n",
            "Row(region='Middle East and North Africa', country='Egypt', total_profit=Decimal('87540.4765625'), total_revenue=Decimal('130261.7578125'), total_units_sold=1192)\n",
            "Row(region='Middle East and North Africa', country='Israel', total_profit=Decimal('73742.9375'), total_revenue=Decimal('223442.046875'), total_units_sold=4709)\n",
            "Row(region='Middle East and North Africa', country='Kuwait', total_profit=Decimal('242960.1875'), total_revenue=Decimal('979683.8125'), total_units_sold=1466)\n",
            "Row(region='Middle East and North Africa', country='Lebanon', total_profit=Decimal('501644.0'), total_revenue=Decimal('3699975.25'), total_units_sold=8770)\n",
            "Row(region='Middle East and North Africa', country='Morocco', total_profit=Decimal('338631.84375'), total_revenue=Decimal('503890.09375'), total_units_sold=4611)\n",
            "Row(region='Middle East and North Africa', country='Oman', total_profit=Decimal('1380006.25'), total_revenue=Decimal('3470056.5'), total_units_sold=7937)\n",
            "Row(region='Middle East and North Africa', country='Pakistan', total_profit=Decimal('570226.8125'), total_revenue=Decimal('4205821.5'), total_units_sold=9969)\n",
            "Row(region='Middle East and North Africa', country='Tunisia ', total_profit=Decimal('425981.5'), total_revenue=Decimal('1071140.0'), total_units_sold=2450)\n",
            "Row(region='Middle East and North Africa', country='United Arab Emirates', total_profit=Decimal('1212378.75'), total_revenue=Decimal('6253569.5'), total_units_sold=9603)\n",
            "Row(region='Central America and the Caribbean', country='Antigua and Barbuda ', total_profit=Decimal('794996.25'), total_revenue=Decimal('4100669.25'), total_units_sold=6297)\n",
            "Row(region='Central America and the Caribbean', country='Belize', total_profit=Decimal('88536.9765625'), total_revenue=Decimal('288752.09375'), total_units_sold=3533)\n",
            "Row(region='Central America and the Caribbean', country='Dominica', total_profit=Decimal('1266075.78125'), total_revenue=Decimal('5006276.4375'), total_units_sold=13345)\n",
            "Row(region='Central America and the Caribbean', country='Dominican Republic', total_profit=Decimal('26265.640625'), total_revenue=Decimal('69946.71875'), total_units_sold=274)\n",
            "Row(region='Central America and the Caribbean', country='Haiti', total_profit=Decimal('259065.0'), total_revenue=Decimal('1336282.875'), total_units_sold=2052)\n",
            "Row(region='Central America and the Caribbean', country='Nicaragua', total_profit=Decimal('1568333.625'), total_revenue=Decimal('5944506.0'), total_units_sold=10682)\n",
            "Row(region='Central America and the Caribbean', country='Saint Lucia', total_profit=Decimal('8630.2099609375'), total_revenue=Decimal('33410.73046875'), total_units_sold=3581)\n",
            "Row(region='Central America and the Caribbean', country='The Bahamas', total_profit=Decimal('240396.619140625'), total_revenue=Decimal('790991.19921875'), total_units_sold=13877)\n",
            "Row(region='Asia', country='Brunei', total_profit=Decimal('374026.96875'), total_revenue=Decimal('868465.375'), total_units_sold=4222)\n",
            "Row(region='Asia', country='China', total_profit=Decimal('731113.75'), total_revenue=Decimal('3771157.0'), total_units_sold=5791)\n",
            "Row(region='Asia', country='India', total_profit=Decimal('294943.875'), total_revenue=Decimal('816150.4375'), total_units_sold=5349)\n",
            "Row(region='Asia', country='Indonesia', total_profit=Decimal('336458.1484375'), total_revenue=Decimal('1176911.59375'), total_units_sold=9929)\n",
            "Row(region='Asia', country='Japan', total_profit=Decimal('1390971.875'), total_revenue=Decimal('5608790.0'), total_units_sold=8393)\n",
            "Row(region='Asia', country='Kazakhstan', total_profit=Decimal('74549.28125'), total_revenue=Decimal('206288.15625'), total_units_sold=1352)\n",
            "Row(region='Asia', country='Malaysia', total_profit=Decimal('143351.640625'), total_revenue=Decimal('434357.3125'), total_units_sold=9154)\n",
            "Row(region='Asia', country='Nepal', total_profit=Decimal('543171.1875'), total_revenue=Decimal('4006267.5'), total_units_sold=9496)\n",
            "Row(region='Asia', country='Singapore', total_profit=Decimal('423254.625'), total_revenue=Decimal('1171204.125'), total_units_sold=7676)\n",
            "Row(region='Asia', country='South Korea', total_profit=Decimal('408465.1875'), total_revenue=Decimal('3012716.5'), total_units_sold=7141)\n",
            "Row(region='Asia', country='Sri Lanka', total_profit=Decimal('3323.389892578125'), total_revenue=Decimal('12866.0703125'), total_units_sold=1379)\n",
            "Row(region='Asia', country='Taiwan', total_profit=Decimal('851842.189453125'), total_revenue=Decimal('2007920.09375'), total_units_sold=17431)\n",
            "Row(region='Asia', country='Thailand', total_profit=Decimal('255484.75317382812'), total_revenue=Decimal('1871246.025390625'), total_units_sold=5956)\n",
            "Row(region='Asia', country='Turkmenistan', total_profit=Decimal('718860.28125'), total_revenue=Decimal('3223939.4375'), total_units_sold=11876)\n",
            "Row(region='Asia', country='Vietnam', total_profit=Decimal('200079.046875'), total_revenue=Decimal('652532.3125'), total_units_sold=7984)\n",
            "Row(region='Sub-Saharan Africa', country='Burundi', total_profit=Decimal('55326.78125'), total_revenue=Decimal('167640.84375'), total_units_sold=3533)\n",
            "Row(region='Sub-Saharan Africa', country='Democratic Republic of the Congo', total_profit=Decimal('515872.28125'), total_revenue=Decimal('1297172.375'), total_units_sold=2967)\n",
            "Row(region='Sub-Saharan Africa', country='Djibouti', total_profit=Decimal('41273.28125'), total_revenue=Decimal('61415.359375'), total_units_sold=562)\n",
            "Row(region='Sub-Saharan Africa', country='Ethiopia', total_profit=Decimal('115101.9375'), total_revenue=Decimal('289426.40625'), total_units_sold=662)\n",
            "Row(region='Sub-Saharan Africa', country='Ghana', total_profit=Decimal('398024.2736816406'), total_revenue=Decimal('1015025.87109375'), total_units_sold=6055)\n",
            "Row(region='Sub-Saharan Africa', country='Liberia', total_profit=Decimal('126918.640625'), total_revenue=Decimal('337990.71875'), total_units_sold=1324)\n",
            "Row(region='Sub-Saharan Africa', country='Madagascar', total_profit=Decimal('228398.40625'), total_revenue=Decimal('339860.8125'), total_units_sold=3110)\n",
            "Row(region='Sub-Saharan Africa', country='Malawi', total_profit=Decimal('291376.8125'), total_revenue=Decimal('2149107.75'), total_units_sold=5094)\n",
            "Row(region='Sub-Saharan Africa', country='Mali', total_profit=Decimal('715456.4375'), total_revenue=Decimal('2884921.5'), total_units_sold=4317)\n",
            "Row(region='Sub-Saharan Africa', country='Mauritius ', total_profit=Decimal('405388.8125'), total_revenue=Decimal('603225.625'), total_units_sold=5520)\n",
            "Row(region='Sub-Saharan Africa', country='Rwanda', total_profit=Decimal('14602.1904296875'), total_revenue=Decimal('56530.46875'), total_units_sold=6059)\n",
            "Row(region='Sub-Saharan Africa', country='Sao Tome and Principe', total_profit=Decimal('202694.40625'), total_revenue=Decimal('301612.8125'), total_units_sold=2760)\n",
            "Row(region='Sub-Saharan Africa', country='Seychelles ', total_profit=Decimal('9349.01953125'), total_revenue=Decimal('28327.650390625'), total_units_sold=597)\n",
            "Row(region='Sub-Saharan Africa', country='South Africa', total_profit=Decimal('3839.1298828125'), total_revenue=Decimal('14862.6904296875'), total_units_sold=1593)\n",
            "Row(region='Sub-Saharan Africa', country='Tanzania', total_profit=Decimal('1396869.875'), total_revenue=Decimal('3555764.375'), total_units_sold=18843)\n",
            "Row(region='Sub-Saharan Africa', country='The Gambia', total_profit=Decimal('20964.58984375'), total_revenue=Decimal('81161.671875'), total_units_sold=8699)\n",
            "Row(region='Sub-Saharan Africa', country='Togo', total_profit=Decimal('835619.25'), total_revenue=Decimal('2101183.25'), total_units_sold=4806)\n",
            "Row(region='Sub-Saharan Africa', country='Uganda', total_profit=Decimal('1059912.0595703125'), total_revenue=Decimal('2673613.48046875'), total_units_sold=6482)\n",
            "Row(region='Sub-Saharan Africa', country='Zimbabwe', total_profit=Decimal('1214903.75'), total_revenue=Decimal('6266594.0'), total_units_sold=9623)\n",
            "Row(region='North America', country='Canada', total_profit=Decimal('1297765.625'), total_revenue=Decimal('3263260.75'), total_units_sold=7464)\n",
            "Row(region='North America', country='United States of America', total_profit=Decimal('106855.84375'), total_revenue=Decimal('348496.71875'), total_units_sold=4264)\n"
          ]
        }
      ]
    },
    {
      "cell_type": "code",
      "source": [
        "# Average shipping time by region\n",
        "create_gold_table_query_4 = \"\"\"\n",
        "CREATE TABLE IF NOT EXISTS sales.gold_average_shipping_time_by_region (\n",
        "    region TEXT PRIMARY KEY,\n",
        "    average_shipping_time DECIMAL\n",
        ")\n",
        "\"\"\"\n",
        "\n",
        "session.execute(create_gold_table_query_4)\n",
        "\n",
        "select_query = \"\"\"\n",
        "SELECT region, order_date, ship_date FROM sales.silver_sales_data\n",
        "\"\"\"\n",
        "\n",
        "rows = session.execute(select_query)\n",
        "\n",
        "shipping_time_data = {}\n",
        "for row in rows:\n",
        "    region = row.region\n",
        "    order_date = datetime.strptime(row.order_date, \"%Y-%m-%d\")\n",
        "    ship_date = datetime.strptime(row.ship_date, \"%Y-%m-%d\")\n",
        "    shipping_time = (ship_date - order_date).days\n",
        "\n",
        "    if region not in shipping_time_data:\n",
        "        shipping_time_data[region] = {\n",
        "            'total_shipping_time': 0,\n",
        "            'order_count': 0\n",
        "        }\n",
        "\n",
        "    shipping_time_data[region]['total_shipping_time'] += shipping_time\n",
        "    shipping_time_data[region]['order_count'] += 1\n",
        "\n",
        "average_shipping_time_by_region = {\n",
        "    region: data['total_shipping_time'] / data['order_count']\n",
        "    for region, data in shipping_time_data.items()\n",
        "}\n",
        "for region, avg_shipping_time in average_shipping_time_by_region.items():\n",
        "    insert_query = \"\"\"\n",
        "    INSERT INTO sales.gold_average_shipping_time_by_region (region, average_shipping_time)\n",
        "    VALUES (%s, %s)\n",
        "    \"\"\"\n",
        "    session.execute(insert_query, (region, float(avg_shipping_time)))\n",
        "\n",
        "print(\"Gold table 4 (average shipping time by region) populated successfully!\")\n"
      ],
      "metadata": {
        "colab": {
          "base_uri": "https://localhost:8080/",
          "height": 0
        },
        "id": "86cw0ego-N5i",
        "outputId": "52a7c7b1-dcbe-4510-e463-cd6748cdefd0"
      },
      "execution_count": 90,
      "outputs": [
        {
          "output_type": "stream",
          "name": "stdout",
          "text": [
            "Gold table 4 (average shipping time by region) populated successfully!\n"
          ]
        }
      ]
    },
    {
      "cell_type": "code",
      "source": [
        "query = \"SELECT * FROM sales.gold_average_shipping_time_by_region ;\"\n",
        "rows = session.execute(query)\n",
        "\n",
        "for row in rows:\n",
        "    print(row)"
      ],
      "metadata": {
        "colab": {
          "base_uri": "https://localhost:8080/",
          "height": 0
        },
        "id": "mAtTNaij-eNI",
        "outputId": "940531e8-f386-499d-8354-762ed2a633ff"
      },
      "execution_count": 91,
      "outputs": [
        {
          "output_type": "stream",
          "name": "stdout",
          "text": [
            "Row(region='Australia and Oceania', average_shipping_time=Decimal('19.88888888888889'))\n",
            "Row(region='Europe', average_shipping_time=Decimal('24.625'))\n",
            "Row(region='Middle East and North Africa', average_shipping_time=Decimal('28.0'))\n",
            "Row(region='Central America and the Caribbean', average_shipping_time=Decimal('26.636363636363637'))\n",
            "Row(region='Asia', average_shipping_time=Decimal('29.94736842105263'))\n",
            "Row(region='Sub-Saharan Africa', average_shipping_time=Decimal('19.458333333333332'))\n",
            "Row(region='North America', average_shipping_time=Decimal('26.5'))\n"
          ]
        }
      ]
    }
  ]
}